{
 "cells": [
  {
   "cell_type": "markdown",
   "metadata": {},
   "source": [
    "Current Notebook:\n",
    "1. Copy V4\n",
    "2. No Scaling only X \n",
    "3. Removing Initial Zero Demand values per series\n",
    "4. Lag, Rolling & Stat Features\n",
    "5. Sample Weights Added\n",
    "6. Undersampling for zero demand in train only"
   ]
  },
  {
   "cell_type": "markdown",
   "metadata": {},
   "source": [
    "More Ideas:\n",
    "1. Outliers in Demand columns.. Remove those greater than some threshold"
   ]
  },
  {
   "cell_type": "code",
   "execution_count": 1,
   "metadata": {},
   "outputs": [],
   "source": [
    "MODEL_VERSION = \"07\"\n",
    "NUM_TIMESTEPS = 28\n",
    "RUN_ON_SAMPLE = False\n",
    "SAMPLE_SIZE = 500\n",
    "SCALING = False\n",
    "\n",
    "DROPOUT = 0.3\n",
    "MIN_LR = 1e-5\n",
    "MAX_LR = 1e-2\n",
    "STEP_SIZE = 2\n",
    "BATCH_SIZE = 5*1024\n",
    "PREDICT_BATCH_SIZE = 10*1024\n",
    "NUM_EPOCHS = [4, 28, 4]\n",
    "\n",
    "MC_DROPOUT = False\n",
    "MC_SAMPLES = 10 if MC_DROPOUT else 1"
   ]
  },
  {
   "cell_type": "code",
   "execution_count": 2,
   "metadata": {},
   "outputs": [],
   "source": [
    "import os, sys, datetime, pickle, gc\n",
    "from time import time, ctime\n",
    "from pprint import pprint\n",
    "from datetime import datetime\n",
    "\n",
    "import pandas as pd\n",
    "import numpy as np\n",
    "import matplotlib.pyplot as plt\n",
    "%matplotlib inline\n",
    "\n",
    "from sklearn.preprocessing import MinMaxScaler\n",
    "from sklearn.metrics import mean_squared_error\n",
    "\n",
    "import tensorflow as tf\n",
    "from tensorflow.keras.preprocessing.sequence import TimeseriesGenerator\n",
    "from tensorflow.keras import Model, Input\n",
    "from tensorflow.keras.layers import Conv1D, Conv2D, LSTM, Embedding, Dense, concatenate, TimeDistributed\n",
    "from tensorflow.keras.layers import BatchNormalization, Dropout, Flatten, Reshape, Activation\n",
    "from tensorflow.keras.optimizers import Adam\n",
    "from tensorflow.keras.layers import RepeatVector, Lambda\n",
    "from tensorflow.keras.backend import repeat_elements\n",
    "from tensorflow.keras.callbacks import CSVLogger, ModelCheckpoint\n",
    "\n",
    "import tensorflow_addons as tfa\n",
    "from tensorflow_addons.optimizers import TriangularCyclicalLearningRate\n",
    "from tensorflow_addons.losses import PinballLoss"
   ]
  },
  {
   "cell_type": "code",
   "execution_count": 3,
   "metadata": {},
   "outputs": [],
   "source": [
    "physical_devices = tf.config.list_physical_devices('GPU')\n",
    "tf.config.experimental.set_memory_growth(physical_devices[0], enable=True)"
   ]
  },
  {
   "cell_type": "code",
   "execution_count": 4,
   "metadata": {},
   "outputs": [],
   "source": [
    "seeded_value = 88888\n",
    "pd.set_option('display.max_colwidth', 50)\n",
    "np.random.seed(seeded_value)\n",
    "tf.random.set_seed(seeded_value)"
   ]
  },
  {
   "cell_type": "code",
   "execution_count": 5,
   "metadata": {},
   "outputs": [],
   "source": [
    "# suppress scientific notation\n",
    "pd.options.display.precision = 2\n",
    "np.set_printoptions(suppress=True)\n",
    "pd.set_option('display.float_format', lambda x: '%.2f' % x)"
   ]
  },
  {
   "cell_type": "code",
   "execution_count": 6,
   "metadata": {},
   "outputs": [
    {
     "name": "stdout",
     "output_type": "stream",
     "text": [
      "['2.2.0']\n"
     ]
    }
   ],
   "source": [
    "print([\n",
    "    tf.__version__\n",
    "])"
   ]
  },
  {
   "cell_type": "code",
   "execution_count": 7,
   "metadata": {},
   "outputs": [
    {
     "name": "stdout",
     "output_type": "stream",
     "text": [
      "Sat Jun 27 23:50:36 2020\n"
     ]
    }
   ],
   "source": [
    "start_time = time()\n",
    "start = datetime.now()\n",
    "print(ctime(start_time))"
   ]
  },
  {
   "cell_type": "markdown",
   "metadata": {},
   "source": [
    "### Files\n",
    "1. calendar.csv - Contains information about the dates on which the products are sold.\n",
    "2. sales_train_validation.csv - Contains the historical daily unit sales data per product and store [d_1 - d_1913]\n",
    "3. sample_submission.csv - The correct format for submissions. Reference the Evaluation tab for more info.\n",
    "4. sell_prices.csv - Contains information about the price of the products sold per store and date.\n",
    "5. sales_train_evaluation.csv - Includes sales [d_1 - d_1941] (labels used for the Public leaderboard)"
   ]
  },
  {
   "cell_type": "code",
   "execution_count": 8,
   "metadata": {},
   "outputs": [],
   "source": [
    "DATA_DIR = \"../data/\"\n",
    "RESULTS_DIR = \"../results/\"\n",
    "PICKLE_DIR = \"../data/preprocessed/\""
   ]
  },
  {
   "cell_type": "code",
   "execution_count": 9,
   "metadata": {},
   "outputs": [],
   "source": [
    "CARDINAL_VARS = ['state_id', 'store_id', 'cat_id', 'dept_id', 'item_id', 'id']"
   ]
  },
  {
   "cell_type": "code",
   "execution_count": 10,
   "metadata": {},
   "outputs": [],
   "source": [
    "TRAIN_INDICES = np.arange(1, 1885 + 1) # Could use 1156 i.e. only 2 years of data\n",
    "VALID_INDICES = np.arange(1886, 1913 + 1)\n",
    "PUBLIC_INDICES = np.arange(1914, 1941 + 1)\n",
    "PRIVATE_INDICES = np.arange(1942, 1969 + 1)"
   ]
  },
  {
   "cell_type": "code",
   "execution_count": 11,
   "metadata": {},
   "outputs": [
    {
     "name": "stdout",
     "output_type": "stream",
     "text": [
      "1 1885 1885\n",
      "1886 1913 28\n",
      "1914 1941 28\n",
      "1942 1969 28\n"
     ]
    }
   ],
   "source": [
    "print(min(TRAIN_INDICES), max(TRAIN_INDICES), len(TRAIN_INDICES))\n",
    "print(min(VALID_INDICES), max(VALID_INDICES), len(VALID_INDICES))\n",
    "print(min(PUBLIC_INDICES), max(PUBLIC_INDICES), len(PUBLIC_INDICES))\n",
    "print(min(PRIVATE_INDICES), max(PRIVATE_INDICES), len(PRIVATE_INDICES))"
   ]
  },
  {
   "cell_type": "markdown",
   "metadata": {},
   "source": [
    "Read about memory management in pandas [here](https://pythonspeed.com/articles/pandas-load-less-data/)"
   ]
  },
  {
   "cell_type": "code",
   "execution_count": 12,
   "metadata": {},
   "outputs": [],
   "source": [
    "def diff_w_first(x:pd.Series, lag:int):\n",
    "    x1 = x[:lag]\n",
    "    x2  = x.diff(lag)[lag:]\n",
    "    return pd.concat([x1, x2])"
   ]
  },
  {
   "cell_type": "code",
   "execution_count": 13,
   "metadata": {},
   "outputs": [],
   "source": [
    "def add_features(df, grouping_col, col, roll_sizes, lag_sizes):\n",
    "    \n",
    "    # per series\n",
    "    df[col+\"_mean_s\"] = df.groupby(grouping_col)[col].transform(\"mean\")\n",
    "    df[col+\"_std_s\"] = df.groupby(grouping_col)[col].transform(\"std\")\n",
    "    df[col+\"_min_s\"] = df.groupby(grouping_col)[col].transform(\"min\")\n",
    "    df[col+\"_max_s\"] = df.groupby(grouping_col)[col].transform(\"max\")\n",
    "    df[col+\"_scaled_s\"] = (df[col] - df[col+\"_mean_s\"]) / df[col+\"_std_s\"]\n",
    "    \n",
    "    # rolling window per series\n",
    "    for i in roll_sizes:\n",
    "        j = str(i)\n",
    "        df[col+\"_mean_rs_\"+j] = df.groupby(grouping_col)[col].rolling(window=i, min_periods=1).mean().reset_index(drop=True)\n",
    "        df[col+\"_min_rs_\"+j] = df.groupby(grouping_col)[col].rolling(window=i, min_periods=1).min().reset_index(drop=True)\n",
    "        df[col+\"_max_rs_\"+j] = df.groupby(grouping_col)[col].rolling(window=i, min_periods=1).max().reset_index(drop=True)\n",
    "        df[col+\"_std_rs_\"+j] = df.groupby(grouping_col)[col].rolling(window=i, min_periods=1).std().reset_index(drop=True)\n",
    "        df[col+\"_std_rs_\"+j] = df[col+\"_std_rs_\"+j].fillna(1e-3)\n",
    "    \n",
    "    # various lags\n",
    "    for i in lag_sizes:\n",
    "        j = str(i)\n",
    "        df[col+\"_lag_\"+j] = df.groupby(grouping_col)[col].apply(lambda x: diff_w_first(x,i)).reset_index(drop=False)[col]\n",
    "    \n",
    "    return df"
   ]
  },
  {
   "cell_type": "code",
   "execution_count": 14,
   "metadata": {},
   "outputs": [],
   "source": [
    "def reduce_mem_usage(df, verbose=True):\n",
    "    numerics = ['int16', 'int32', 'int64', 'float16', 'float32', 'float64']\n",
    "    start_mem = df.memory_usage().sum() / 1024**2    \n",
    "    for col in df.columns:\n",
    "        col_type = df[col].dtypes\n",
    "        if col_type in numerics:\n",
    "            c_min = df[col].min()\n",
    "            c_max = df[col].max()\n",
    "            if str(col_type)[:3] == 'int':\n",
    "                if c_min > np.iinfo(np.int8).min and c_max < np.iinfo(np.int8).max:\n",
    "                    df[col] = df[col].astype(np.int8)\n",
    "                elif c_min > np.iinfo(np.int16).min and c_max < np.iinfo(np.int16).max:\n",
    "                    df[col] = df[col].astype(np.int16)\n",
    "                elif c_min > np.iinfo(np.int32).min and c_max < np.iinfo(np.int32).max:\n",
    "                    df[col] = df[col].astype(np.int32)\n",
    "                elif c_min > np.iinfo(np.int64).min and c_max < np.iinfo(np.int64).max:\n",
    "                    df[col] = df[col].astype(np.int64)  \n",
    "            else:\n",
    "                if c_min > np.finfo(np.float16).min and c_max < np.finfo(np.float16).max:\n",
    "                    df[col] = df[col].astype(np.float16)\n",
    "                elif c_min > np.finfo(np.float32).min and c_max < np.finfo(np.float32).max:\n",
    "                    df[col] = df[col].astype(np.float32)\n",
    "                else:\n",
    "                    df[col] = df[col].astype(np.float64)    \n",
    "    end_mem = df.memory_usage().sum() / 1024**2\n",
    "    if verbose: print('Mem. usage decreased to {:5.2f} Mb ({:.1f}% reduction)'.format(end_mem, 100 * (start_mem - end_mem) / start_mem))\n",
    "    return df"
   ]
  },
  {
   "cell_type": "code",
   "execution_count": 15,
   "metadata": {},
   "outputs": [],
   "source": [
    "def read_data(infer_mode:bool=False):\n",
    "    print('Reading files...')\n",
    "    \n",
    "    calendar = pd.read_csv('../data/calendar.csv').fillna(\"None\")\n",
    "    calendar = reduce_mem_usage(calendar)\n",
    "    print('Calendar has {} rows and {} columns'.format(calendar.shape[0], calendar.shape[1]))\n",
    "    \n",
    "    sell_prices = pd.read_csv('../data/sell_prices.csv')\n",
    "    sell_prices = reduce_mem_usage(sell_prices)\n",
    "    print('Sell prices has {} rows and {} columns'.format(sell_prices.shape[0], sell_prices.shape[1]))\n",
    "    \n",
    "    sales = pd.read_csv('../data/sales_train_evaluation.csv')\n",
    "    print('Sales train validation has {} rows and {} columns'.format(sales.shape[0], sales.shape[1]))\n",
    "    sales[['d_'+str(i) for i in PRIVATE_INDICES]] = pd.DataFrame(np.zeros(shape=(sales.shape[0], len(PRIVATE_INDICES))))\n",
    "    print('Sales train validation has {} rows and {} columns'.format(sales.shape[0], sales.shape[1]))\n",
    "    \n",
    "    submission = pd.read_csv('../data/sample_submission.csv')\n",
    "    \n",
    "    pprint({\n",
    "        \"calendar.shape\" : calendar.shape,\n",
    "        \"sell_prices.shape\" : sell_prices.shape,\n",
    "        \"sales.shape\" : sales.shape,\n",
    "        \"submission.shape\" : submission.shape\n",
    "    })\n",
    "    \n",
    "    return calendar, sell_prices, sales, submission"
   ]
  },
  {
   "cell_type": "code",
   "execution_count": 16,
   "metadata": {},
   "outputs": [],
   "source": [
    "def add_dateparts(calendar, datecolname):\n",
    "    calendar[\"Date\"] = pd.to_datetime(calendar[datecolname], format = (\"%Y-%m-%d\"))\n",
    "    calendar[\"Year\"] = calendar[\"Date\"].dt.year.astype('int16')\n",
    "    calendar[\"Quarter\"] = calendar[\"Date\"].dt.quarter\n",
    "    calendar[\"Month\"] = calendar[\"Date\"].dt.month\n",
    "    calendar[\"Week\"] = calendar[\"Date\"].dt.week\n",
    "    calendar[\"Day\"] = calendar[\"Date\"].dt.day\n",
    "    calendar[\"DOW\"] = calendar[\"Date\"].dt.dayofweek\n",
    "    calendar = reduce_mem_usage(calendar)\n",
    "    return calendar"
   ]
  },
  {
   "cell_type": "code",
   "execution_count": 17,
   "metadata": {},
   "outputs": [],
   "source": [
    "def melt_join_fill(sales, calendar, sell_prices):\n",
    "    print(\"[INFO] \", \"Starting  -- COMPLETE\", ctime(time()))\n",
    "    if RUN_ON_SAMPLE:\n",
    "        sales = pd.melt(sales.sample(SAMPLE_SIZE),\n",
    "                        id_vars=CARDINAL_VARS,\n",
    "                        value_vars=Y_VARS,\n",
    "                        var_name=\"day_id\",\n",
    "                        value_name='demand')\n",
    "    else:\n",
    "        sales = pd.melt(sales,\n",
    "                        id_vars=CARDINAL_VARS,\n",
    "                        value_vars=Y_VARS,\n",
    "                        var_name=\"day_id\",\n",
    "                        value_name='demand')\n",
    "    print(\"[INFO] \", \"Melting  -- COMPLETE\", ctime(time()))\n",
    "\n",
    "    gc.collect()\n",
    "    \n",
    "    sales = pd.merge(sales, calendar, how=\"left\", left_on=\"day_id\", right_on=\"d\")\n",
    "    print(\"[INFO] \", \"Merging1 -- COMPLETE\", ctime(time()))\n",
    "    \n",
    "    gc.collect()\n",
    "    \n",
    "    sales = pd.merge(sales, sell_prices, how=\"left\", on=[\"wm_yr_wk\", \"store_id\", \"item_id\"])\n",
    "    print(\"[INFO] \", \"Merging2 -- COMPLETE\", ctime(time()))\n",
    "    \n",
    "    gc.collect()\n",
    "    \n",
    "    # if sell_price is NA\n",
    "    sales = sales.sort_values(by=CARDINAL_VARS+[\"date\"])\n",
    "    print(\"[INFO] \", \"Sorting -- COMPLETE\", ctime(time()))\n",
    "    \n",
    "    # remove till first non-zero demand per series\n",
    "    before = sales.shape\n",
    "    sales['cumul_demand'] = sales.groupby(['id'])['demand'].cumsum()\n",
    "    sales = sales.loc[sales['cumul_demand']>0].copy().reset_index(drop=True)\n",
    "    after = sales.shape\n",
    "    print(\"[INFO] \", \"Removal -- COMPLETE\", ctime(time()))\n",
    "    print(\"[INFO] \", \"Removal\", before, \"--->\", after)\n",
    "    \n",
    "    gc.collect()    \n",
    "    \n",
    "    sales[\"sell_price_available\"] = np.where(sales.sell_price.isna(), \"N\", \"Y\")\n",
    "    sales[[\"sell_price\"]] = sales.groupby([\"item_id\"])[[\"sell_price\"]].ffill()\n",
    "    sales[[\"sell_price\"]] = sales.groupby([\"item_id\"])[[\"sell_price\"]].bfill()\n",
    "    sales = sales.drop([\"d\", \"wday\", 'date', 'wm_yr_wk', 'weekday', 'month', 'year'], axis=1)\n",
    "    \n",
    "    sales['day_id'] = sales['day_id'].astype(str).apply(lambda x: x[2:]).astype(np.int16)\n",
    "    \n",
    "    print(\"[INFO] \", \"Imputing -- COMPLETE\", ctime(time()))    \n",
    "    \n",
    "    gc.collect()\n",
    "    \n",
    "    sales['weights'] = sales[\"sell_price\"] * sales[\"demand\"]\n",
    "    sales['rolling_weights'] = sales.groupby(CARDINAL_VARS)['weights'].rolling(window=NUM_TIMESTEPS, min_periods=1).sum().reset_index(drop=True)\n",
    "    \n",
    "    sales['weights'] = sales['weights'].apply(lambda x: np.max((1.0, x)))\n",
    "    sales['rolling_weights'] = sales['rolling_weights'].apply(lambda x: np.max((1.0, x)))\n",
    "    \n",
    "    print(\"[INFO] \", \"Weighting -- COMPLETE\", ctime(time()))    \n",
    "    \n",
    "    gc.collect()\n",
    "    \n",
    "    print(\"[INFO] \", \"Final dataset contains\", sales.shape)\n",
    "    \n",
    "    return sales.reset_index(drop=True)"
   ]
  },
  {
   "cell_type": "code",
   "execution_count": 18,
   "metadata": {
    "scrolled": true
   },
   "outputs": [
    {
     "name": "stdout",
     "output_type": "stream",
     "text": [
      "Pickle exists hence loading from pickle file --->  ../data/preprocessed/ merged_df_06.pickle\n"
     ]
    }
   ],
   "source": [
    "MODEL_VERSION = \"06\"\n",
    "if not os.path.exists(PICKLE_DIR+\"merged_df_\"+MODEL_VERSION+\".pickle\"):\n",
    "    \n",
    "    calendar, sell_prices, sales, submission = read_data()\n",
    "    \n",
    "    calendar = add_dateparts(calendar, \"date\")\n",
    "    \n",
    "    Y_VARS = sales.columns[sales.columns.str.startswith(\"d_\")]\n",
    "\n",
    "    data = melt_join_fill(sales, calendar, sell_prices)\n",
    "    \n",
    "    del sales, calendar, sell_prices\n",
    "    gc.collect()\n",
    "\n",
    "    data[\"demand_lag\"] = data.groupby('id')['demand'].apply(lambda x: diff_w_first(x,60)).reset_index(drop=False)['demand']\n",
    "    data = add_features(df=data, grouping_col=\"id\", col=\"demand_lag\", roll_sizes=[7, 30, 90, 365], lag_sizes=[7, 30, 90, 365])\n",
    "\n",
    "    print(\"Saving all data to ---> \", PICKLE_DIR, \"merged_df_\"+MODEL_VERSION+\".pickle\")\n",
    "    with open(os.path.join(PICKLE_DIR, \"merged_df_\"+MODEL_VERSION+\".pickle\"),\"wb\") as f:\n",
    "        pickle.dump((data), f, protocol=4)\n",
    "else:\n",
    "    print(\"Pickle exists hence loading from pickle file ---> \", PICKLE_DIR, \"merged_df_\"+MODEL_VERSION+\".pickle\")\n",
    "    with open(os.path.join(PICKLE_DIR+\"merged_df_\"+MODEL_VERSION+\".pickle\"), \"rb\") as f:\n",
    "        data = pickle.load(f)\n",
    "\n",
    "MODEL_VERSION = \"07\""
   ]
  },
  {
   "cell_type": "code",
   "execution_count": 19,
   "metadata": {
    "scrolled": true
   },
   "outputs": [
    {
     "name": "stdout",
     "output_type": "stream",
     "text": [
      "Index(['state_id', 'store_id', 'cat_id', 'dept_id', 'item_id', 'id', 'day_id',\n",
      "       'demand', 'event_name_1', 'event_type_1', 'event_name_2',\n",
      "       'event_type_2', 'snap_CA', 'snap_TX', 'snap_WI', 'Date', 'Year',\n",
      "       'Quarter', 'Month', 'Week', 'Day', 'DOW', 'sell_price', 'cumul_demand',\n",
      "       'sell_price_available', 'weights', 'rolling_weights', 'demand_lag',\n",
      "       'demand_lag_mean_s', 'demand_lag_std_s', 'demand_lag_min_s',\n",
      "       'demand_lag_max_s', 'demand_lag_scaled_s', 'demand_lag_mean_rs_7',\n",
      "       'demand_lag_min_rs_7', 'demand_lag_max_rs_7', 'demand_lag_std_rs_7',\n",
      "       'demand_lag_mean_rs_30', 'demand_lag_min_rs_30', 'demand_lag_max_rs_30',\n",
      "       'demand_lag_std_rs_30', 'demand_lag_mean_rs_90', 'demand_lag_min_rs_90',\n",
      "       'demand_lag_max_rs_90', 'demand_lag_std_rs_90',\n",
      "       'demand_lag_mean_rs_365', 'demand_lag_min_rs_365',\n",
      "       'demand_lag_max_rs_365', 'demand_lag_std_rs_365', 'demand_lag_lag_7',\n",
      "       'demand_lag_lag_30', 'demand_lag_lag_90', 'demand_lag_lag_365'],\n",
      "      dtype='object')\n"
     ]
    }
   ],
   "source": [
    "print(data.columns)"
   ]
  },
  {
   "cell_type": "code",
   "execution_count": 20,
   "metadata": {},
   "outputs": [
    {
     "data": {
      "text/plain": [
       "(1885, 1913, 1941, 1969)"
      ]
     },
     "execution_count": 20,
     "metadata": {},
     "output_type": "execute_result"
    }
   ],
   "source": [
    "1913-28, 1913, 1913 + 28, 1913 + 28 + 28"
   ]
  },
  {
   "cell_type": "code",
   "execution_count": 21,
   "metadata": {},
   "outputs": [
    {
     "data": {
      "text/plain": [
       "(Timestamp('2011-01-29 00:00:00'), Timestamp('2016-06-19 00:00:00'))"
      ]
     },
     "execution_count": 21,
     "metadata": {},
     "output_type": "execute_result"
    }
   ],
   "source": [
    "data.Date.min(), data.Date.max()#, data.Date.max() + 28, data.Date.max() + 28 + 28"
   ]
  },
  {
   "cell_type": "code",
   "execution_count": 22,
   "metadata": {},
   "outputs": [
    {
     "name": "stdout",
     "output_type": "stream",
     "text": [
      "(47649940, 53)\n"
     ]
    },
    {
     "data": {
      "text/html": [
       "<div>\n",
       "<style scoped>\n",
       "    .dataframe tbody tr th:only-of-type {\n",
       "        vertical-align: middle;\n",
       "    }\n",
       "\n",
       "    .dataframe tbody tr th {\n",
       "        vertical-align: top;\n",
       "    }\n",
       "\n",
       "    .dataframe thead th {\n",
       "        text-align: right;\n",
       "    }\n",
       "</style>\n",
       "<table border=\"1\" class=\"dataframe\">\n",
       "  <thead>\n",
       "    <tr style=\"text-align: right;\">\n",
       "      <th></th>\n",
       "      <th>state_id</th>\n",
       "      <th>store_id</th>\n",
       "      <th>cat_id</th>\n",
       "      <th>dept_id</th>\n",
       "      <th>item_id</th>\n",
       "      <th>id</th>\n",
       "      <th>day_id</th>\n",
       "      <th>demand</th>\n",
       "      <th>event_name_1</th>\n",
       "      <th>event_type_1</th>\n",
       "      <th>...</th>\n",
       "      <th>demand_lag_max_rs_90</th>\n",
       "      <th>demand_lag_std_rs_90</th>\n",
       "      <th>demand_lag_mean_rs_365</th>\n",
       "      <th>demand_lag_min_rs_365</th>\n",
       "      <th>demand_lag_max_rs_365</th>\n",
       "      <th>demand_lag_std_rs_365</th>\n",
       "      <th>demand_lag_lag_7</th>\n",
       "      <th>demand_lag_lag_30</th>\n",
       "      <th>demand_lag_lag_90</th>\n",
       "      <th>demand_lag_lag_365</th>\n",
       "    </tr>\n",
       "  </thead>\n",
       "  <tbody>\n",
       "    <tr>\n",
       "      <th>0</th>\n",
       "      <td>CA</td>\n",
       "      <td>CA_1</td>\n",
       "      <td>FOODS</td>\n",
       "      <td>FOODS_1</td>\n",
       "      <td>FOODS_1_001</td>\n",
       "      <td>FOODS_1_001_CA_1_evaluation</td>\n",
       "      <td>1</td>\n",
       "      <td>3.00</td>\n",
       "      <td>None</td>\n",
       "      <td>None</td>\n",
       "      <td>...</td>\n",
       "      <td>3.00</td>\n",
       "      <td>0.00</td>\n",
       "      <td>3.00</td>\n",
       "      <td>3.00</td>\n",
       "      <td>3.00</td>\n",
       "      <td>0.00</td>\n",
       "      <td>3.00</td>\n",
       "      <td>3.00</td>\n",
       "      <td>3.00</td>\n",
       "      <td>3.00</td>\n",
       "    </tr>\n",
       "    <tr>\n",
       "      <th>1</th>\n",
       "      <td>CA</td>\n",
       "      <td>CA_1</td>\n",
       "      <td>FOODS</td>\n",
       "      <td>FOODS_1</td>\n",
       "      <td>FOODS_1_001</td>\n",
       "      <td>FOODS_1_001_CA_1_evaluation</td>\n",
       "      <td>2</td>\n",
       "      <td>0.00</td>\n",
       "      <td>None</td>\n",
       "      <td>None</td>\n",
       "      <td>...</td>\n",
       "      <td>3.00</td>\n",
       "      <td>2.12</td>\n",
       "      <td>1.50</td>\n",
       "      <td>0.00</td>\n",
       "      <td>3.00</td>\n",
       "      <td>2.12</td>\n",
       "      <td>0.00</td>\n",
       "      <td>0.00</td>\n",
       "      <td>0.00</td>\n",
       "      <td>0.00</td>\n",
       "    </tr>\n",
       "    <tr>\n",
       "      <th>2</th>\n",
       "      <td>CA</td>\n",
       "      <td>CA_1</td>\n",
       "      <td>FOODS</td>\n",
       "      <td>FOODS_1</td>\n",
       "      <td>FOODS_1_001</td>\n",
       "      <td>FOODS_1_001_CA_1_evaluation</td>\n",
       "      <td>3</td>\n",
       "      <td>0.00</td>\n",
       "      <td>None</td>\n",
       "      <td>None</td>\n",
       "      <td>...</td>\n",
       "      <td>3.00</td>\n",
       "      <td>1.73</td>\n",
       "      <td>1.00</td>\n",
       "      <td>0.00</td>\n",
       "      <td>3.00</td>\n",
       "      <td>1.73</td>\n",
       "      <td>0.00</td>\n",
       "      <td>0.00</td>\n",
       "      <td>0.00</td>\n",
       "      <td>0.00</td>\n",
       "    </tr>\n",
       "    <tr>\n",
       "      <th>3</th>\n",
       "      <td>CA</td>\n",
       "      <td>CA_1</td>\n",
       "      <td>FOODS</td>\n",
       "      <td>FOODS_1</td>\n",
       "      <td>FOODS_1_001</td>\n",
       "      <td>FOODS_1_001_CA_1_evaluation</td>\n",
       "      <td>4</td>\n",
       "      <td>1.00</td>\n",
       "      <td>None</td>\n",
       "      <td>None</td>\n",
       "      <td>...</td>\n",
       "      <td>3.00</td>\n",
       "      <td>1.41</td>\n",
       "      <td>1.00</td>\n",
       "      <td>0.00</td>\n",
       "      <td>3.00</td>\n",
       "      <td>1.41</td>\n",
       "      <td>1.00</td>\n",
       "      <td>1.00</td>\n",
       "      <td>1.00</td>\n",
       "      <td>1.00</td>\n",
       "    </tr>\n",
       "    <tr>\n",
       "      <th>4</th>\n",
       "      <td>CA</td>\n",
       "      <td>CA_1</td>\n",
       "      <td>FOODS</td>\n",
       "      <td>FOODS_1</td>\n",
       "      <td>FOODS_1_001</td>\n",
       "      <td>FOODS_1_001_CA_1_evaluation</td>\n",
       "      <td>5</td>\n",
       "      <td>4.00</td>\n",
       "      <td>None</td>\n",
       "      <td>None</td>\n",
       "      <td>...</td>\n",
       "      <td>4.00</td>\n",
       "      <td>1.82</td>\n",
       "      <td>1.60</td>\n",
       "      <td>0.00</td>\n",
       "      <td>4.00</td>\n",
       "      <td>1.82</td>\n",
       "      <td>4.00</td>\n",
       "      <td>4.00</td>\n",
       "      <td>4.00</td>\n",
       "      <td>4.00</td>\n",
       "    </tr>\n",
       "  </tbody>\n",
       "</table>\n",
       "<p>5 rows × 53 columns</p>\n",
       "</div>"
      ],
      "text/plain": [
       "  state_id store_id cat_id  dept_id      item_id                           id  \\\n",
       "0       CA     CA_1  FOODS  FOODS_1  FOODS_1_001  FOODS_1_001_CA_1_evaluation   \n",
       "1       CA     CA_1  FOODS  FOODS_1  FOODS_1_001  FOODS_1_001_CA_1_evaluation   \n",
       "2       CA     CA_1  FOODS  FOODS_1  FOODS_1_001  FOODS_1_001_CA_1_evaluation   \n",
       "3       CA     CA_1  FOODS  FOODS_1  FOODS_1_001  FOODS_1_001_CA_1_evaluation   \n",
       "4       CA     CA_1  FOODS  FOODS_1  FOODS_1_001  FOODS_1_001_CA_1_evaluation   \n",
       "\n",
       "   day_id  demand event_name_1 event_type_1  ... demand_lag_max_rs_90  \\\n",
       "0       1    3.00         None         None  ...                 3.00   \n",
       "1       2    0.00         None         None  ...                 3.00   \n",
       "2       3    0.00         None         None  ...                 3.00   \n",
       "3       4    1.00         None         None  ...                 3.00   \n",
       "4       5    4.00         None         None  ...                 4.00   \n",
       "\n",
       "  demand_lag_std_rs_90  demand_lag_mean_rs_365  demand_lag_min_rs_365  \\\n",
       "0                 0.00                    3.00                   3.00   \n",
       "1                 2.12                    1.50                   0.00   \n",
       "2                 1.73                    1.00                   0.00   \n",
       "3                 1.41                    1.00                   0.00   \n",
       "4                 1.82                    1.60                   0.00   \n",
       "\n",
       "   demand_lag_max_rs_365 demand_lag_std_rs_365  demand_lag_lag_7  \\\n",
       "0                   3.00                  0.00              3.00   \n",
       "1                   3.00                  2.12              0.00   \n",
       "2                   3.00                  1.73              0.00   \n",
       "3                   3.00                  1.41              1.00   \n",
       "4                   4.00                  1.82              4.00   \n",
       "\n",
       "   demand_lag_lag_30  demand_lag_lag_90  demand_lag_lag_365  \n",
       "0               3.00               3.00                3.00  \n",
       "1               0.00               0.00                0.00  \n",
       "2               0.00               0.00                0.00  \n",
       "3               1.00               1.00                1.00  \n",
       "4               4.00               4.00                4.00  \n",
       "\n",
       "[5 rows x 53 columns]"
      ]
     },
     "execution_count": 22,
     "metadata": {},
     "output_type": "execute_result"
    }
   ],
   "source": [
    "print(data.shape); data.head()"
   ]
  },
  {
   "cell_type": "markdown",
   "metadata": {},
   "source": [
    "# Preprocessing"
   ]
  },
  {
   "cell_type": "code",
   "execution_count": 23,
   "metadata": {},
   "outputs": [],
   "source": [
    "CONT_VARS = ['snap_CA', 'snap_TX', 'snap_WI', 'sell_price',\n",
    "             'demand_lag', 'demand_lag_mean_s', 'demand_lag_std_s', 'demand_lag_min_s',\n",
    "             'demand_lag_max_s', 'demand_lag_scaled_s', 'demand_lag_mean_rs_7',\n",
    "             'demand_lag_min_rs_7', 'demand_lag_max_rs_7', 'demand_lag_std_rs_7',\n",
    "             'demand_lag_mean_rs_30', 'demand_lag_min_rs_30', 'demand_lag_max_rs_30',\n",
    "             'demand_lag_std_rs_30', 'demand_lag_mean_rs_90', 'demand_lag_min_rs_90',\n",
    "             'demand_lag_max_rs_90', 'demand_lag_std_rs_90', 'demand_lag_mean_rs_365',\n",
    "             'demand_lag_min_rs_365', 'demand_lag_max_rs_365', 'demand_lag_std_rs_365',\n",
    "             'demand_lag_lag_7', 'demand_lag_lag_30', 'demand_lag_lag_90', 'demand_lag_lag_365']\n",
    "CAT_VARS = ['state_id', 'store_id', 'cat_id', 'dept_id', 'item_id', 'event_name_1',\n",
    "            'event_type_1', 'event_name_2', 'event_type_2', 'Year', 'Quarter',\n",
    "            'Month', 'Week', 'Day', 'DOW', 'sell_price_available']\n",
    "DEP_VAR = ['demand']\n",
    "WEIGHT_VAR = ['weights', 'rolling_weights']"
   ]
  },
  {
   "cell_type": "markdown",
   "metadata": {},
   "source": [
    "## Sampling"
   ]
  },
  {
   "cell_type": "code",
   "execution_count": 24,
   "metadata": {},
   "outputs": [],
   "source": [
    "data['set'] = np.where(data.day_id.isin(TRAIN_INDICES), \"Train\",\n",
    "                       np.where(data.day_id.isin(VALID_INDICES), \"Valid\",\n",
    "                                np.where(data.day_id.isin(PUBLIC_INDICES), \"Public\", \"Private\")))"
   ]
  },
  {
   "cell_type": "code",
   "execution_count": 25,
   "metadata": {},
   "outputs": [
    {
     "data": {
      "text/html": [
       "<div>\n",
       "<style scoped>\n",
       "    .dataframe tbody tr th:only-of-type {\n",
       "        vertical-align: middle;\n",
       "    }\n",
       "\n",
       "    .dataframe tbody tr th {\n",
       "        vertical-align: top;\n",
       "    }\n",
       "\n",
       "    .dataframe thead tr th {\n",
       "        text-align: left;\n",
       "    }\n",
       "\n",
       "    .dataframe thead tr:last-of-type th {\n",
       "        text-align: right;\n",
       "    }\n",
       "</style>\n",
       "<table border=\"1\" class=\"dataframe\">\n",
       "  <thead>\n",
       "    <tr>\n",
       "      <th></th>\n",
       "      <th>id</th>\n",
       "      <th colspan=\"2\" halign=\"left\">day_id</th>\n",
       "    </tr>\n",
       "    <tr>\n",
       "      <th></th>\n",
       "      <th>count</th>\n",
       "      <th>amin</th>\n",
       "      <th>amax</th>\n",
       "    </tr>\n",
       "    <tr>\n",
       "      <th>set</th>\n",
       "      <th></th>\n",
       "      <th></th>\n",
       "      <th></th>\n",
       "    </tr>\n",
       "  </thead>\n",
       "  <tbody>\n",
       "    <tr>\n",
       "      <th>Private</th>\n",
       "      <td>853720</td>\n",
       "      <td>1942</td>\n",
       "      <td>1969</td>\n",
       "    </tr>\n",
       "    <tr>\n",
       "      <th>Public</th>\n",
       "      <td>853720</td>\n",
       "      <td>1914</td>\n",
       "      <td>1941</td>\n",
       "    </tr>\n",
       "    <tr>\n",
       "      <th>Train</th>\n",
       "      <td>45088780</td>\n",
       "      <td>1</td>\n",
       "      <td>1885</td>\n",
       "    </tr>\n",
       "    <tr>\n",
       "      <th>Valid</th>\n",
       "      <td>853720</td>\n",
       "      <td>1886</td>\n",
       "      <td>1913</td>\n",
       "    </tr>\n",
       "  </tbody>\n",
       "</table>\n",
       "</div>"
      ],
      "text/plain": [
       "               id day_id      \n",
       "            count   amin  amax\n",
       "set                           \n",
       "Private    853720   1942  1969\n",
       "Public     853720   1914  1941\n",
       "Train    45088780      1  1885\n",
       "Valid      853720   1886  1913"
      ]
     },
     "execution_count": 25,
     "metadata": {},
     "output_type": "execute_result"
    }
   ],
   "source": [
    "data.groupby('set').agg({\n",
    "    'id':'count',\n",
    "    'day_id':[np.min, np.max]\n",
    "})"
   ]
  },
  {
   "cell_type": "code",
   "execution_count": 26,
   "metadata": {},
   "outputs": [
    {
     "name": "stdout",
     "output_type": "stream",
     "text": [
      "[INFO]  Sampling -- COMPLETE Sun Jun 28 00:08:47 2020\n",
      "[INFO]  Sampling --   (28811705, 55)\n"
     ]
    }
   ],
   "source": [
    "data = data.drop(data[(data['set'] == \"Train\") & (data['demand'] == 0)].sample(frac=0.7).index).copy().reset_index()\n",
    "gc.collect()\n",
    "\n",
    "print(\"[INFO] \", \"Sampling -- COMPLETE\", ctime(time()))\n",
    "print(\"[INFO] \", \"Sampling --  \", data.shape)"
   ]
  },
  {
   "cell_type": "code",
   "execution_count": 27,
   "metadata": {},
   "outputs": [
    {
     "data": {
      "text/html": [
       "<div>\n",
       "<style scoped>\n",
       "    .dataframe tbody tr th:only-of-type {\n",
       "        vertical-align: middle;\n",
       "    }\n",
       "\n",
       "    .dataframe tbody tr th {\n",
       "        vertical-align: top;\n",
       "    }\n",
       "\n",
       "    .dataframe thead th {\n",
       "        text-align: right;\n",
       "    }\n",
       "</style>\n",
       "<table border=\"1\" class=\"dataframe\">\n",
       "  <thead>\n",
       "    <tr style=\"text-align: right;\">\n",
       "      <th></th>\n",
       "      <th>id</th>\n",
       "    </tr>\n",
       "    <tr>\n",
       "      <th>demand</th>\n",
       "      <th></th>\n",
       "    </tr>\n",
       "  </thead>\n",
       "  <tbody>\n",
       "    <tr>\n",
       "      <th>0.00</th>\n",
       "      <td>8073529</td>\n",
       "    </tr>\n",
       "    <tr>\n",
       "      <th>1.00</th>\n",
       "      <td>7589986</td>\n",
       "    </tr>\n",
       "    <tr>\n",
       "      <th>2.00</th>\n",
       "      <td>3814220</td>\n",
       "    </tr>\n",
       "    <tr>\n",
       "      <th>3.00</th>\n",
       "      <td>2056171</td>\n",
       "    </tr>\n",
       "    <tr>\n",
       "      <th>4.00</th>\n",
       "      <td>1254448</td>\n",
       "    </tr>\n",
       "    <tr>\n",
       "      <th>...</th>\n",
       "      <td>...</td>\n",
       "    </tr>\n",
       "    <tr>\n",
       "      <th>634.00</th>\n",
       "      <td>1</td>\n",
       "    </tr>\n",
       "    <tr>\n",
       "      <th>648.00</th>\n",
       "      <td>1</td>\n",
       "    </tr>\n",
       "    <tr>\n",
       "      <th>693.00</th>\n",
       "      <td>1</td>\n",
       "    </tr>\n",
       "    <tr>\n",
       "      <th>709.00</th>\n",
       "      <td>2</td>\n",
       "    </tr>\n",
       "    <tr>\n",
       "      <th>763.00</th>\n",
       "      <td>1</td>\n",
       "    </tr>\n",
       "  </tbody>\n",
       "</table>\n",
       "<p>419 rows × 1 columns</p>\n",
       "</div>"
      ],
      "text/plain": [
       "             id\n",
       "demand         \n",
       "0.00    8073529\n",
       "1.00    7589986\n",
       "2.00    3814220\n",
       "3.00    2056171\n",
       "4.00    1254448\n",
       "...         ...\n",
       "634.00        1\n",
       "648.00        1\n",
       "693.00        1\n",
       "709.00        2\n",
       "763.00        1\n",
       "\n",
       "[419 rows x 1 columns]"
      ]
     },
     "execution_count": 27,
     "metadata": {},
     "output_type": "execute_result"
    }
   ],
   "source": [
    "data[data['set'] == \"Train\"].groupby(['demand'])[['id']].count()"
   ]
  },
  {
   "cell_type": "markdown",
   "metadata": {},
   "source": [
    "### Categorical Data"
   ]
  },
  {
   "cell_type": "code",
   "execution_count": 28,
   "metadata": {},
   "outputs": [],
   "source": [
    "Category_Mapping = {}\n",
    "for c in CAT_VARS:\n",
    "    # convert columns to categories\n",
    "    data[c+\"_cat\"] = data[c].astype(\"category\")\n",
    "    \n",
    "    # save the mapping for later use\n",
    "    Category_Mapping.update({c+\"_cat\" : dict(enumerate(data[c+\"_cat\"].cat.categories))})\n",
    "    \n",
    "    # Copy categories as integer codes\n",
    "    data[c+\"_cat\"] = data[c+\"_cat\"].cat.codes"
   ]
  },
  {
   "cell_type": "code",
   "execution_count": 29,
   "metadata": {},
   "outputs": [
    {
     "name": "stdout",
     "output_type": "stream",
     "text": [
      "{'DOW_cat': {'emb_sz': 3, 'max': 6, 'min': 0, 'nuniq': 7},\n",
      " 'Day_cat': {'emb_sz': 10, 'max': 30, 'min': 0, 'nuniq': 31},\n",
      " 'Month_cat': {'emb_sz': 6, 'max': 11, 'min': 0, 'nuniq': 12},\n",
      " 'Quarter_cat': {'emb_sz': 2, 'max': 3, 'min': 0, 'nuniq': 4},\n",
      " 'Week_cat': {'emb_sz': 10, 'max': 52, 'min': 0, 'nuniq': 53},\n",
      " 'Year_cat': {'emb_sz': 3, 'max': 5, 'min': 0, 'nuniq': 6},\n",
      " 'cat_id_cat': {'emb_sz': 2, 'max': 2, 'min': 0, 'nuniq': 3},\n",
      " 'dept_id_cat': {'emb_sz': 3, 'max': 6, 'min': 0, 'nuniq': 7},\n",
      " 'event_name_1_cat': {'emb_sz': 10, 'max': 30, 'min': 0, 'nuniq': 31},\n",
      " 'event_name_2_cat': {'emb_sz': 2, 'max': 4, 'min': 0, 'nuniq': 5},\n",
      " 'event_type_1_cat': {'emb_sz': 2, 'max': 4, 'min': 0, 'nuniq': 5},\n",
      " 'event_type_2_cat': {'emb_sz': 2, 'max': 2, 'min': 0, 'nuniq': 3},\n",
      " 'item_id_cat': {'emb_sz': 10, 'max': 3048, 'min': 0, 'nuniq': 3049},\n",
      " 'sell_price_available_cat': {'emb_sz': 2, 'max': 0, 'min': 0, 'nuniq': 1},\n",
      " 'state_id_cat': {'emb_sz': 2, 'max': 2, 'min': 0, 'nuniq': 3},\n",
      " 'store_id_cat': {'emb_sz': 5, 'max': 9, 'min': 0, 'nuniq': 10}}\n"
     ]
    }
   ],
   "source": [
    "Unique_Dict ={}\n",
    "for c in CAT_VARS:\n",
    "    col = c+\"_cat\"\n",
    "    Unique_Dict.update({col:{'min':data[col].min(), \n",
    "                             'max':data[col].max(), \n",
    "                             'nuniq':data[col].nunique(), \n",
    "                             'emb_sz':max(min(int(data[col].nunique() / 2), 10), 2)}})\n",
    "pprint(Unique_Dict)"
   ]
  },
  {
   "cell_type": "code",
   "execution_count": 30,
   "metadata": {},
   "outputs": [],
   "source": [
    "NEW_CAT_VARS = [col+\"_cat\" for col in CAT_VARS]"
   ]
  },
  {
   "cell_type": "markdown",
   "metadata": {},
   "source": [
    "### Numerical Data"
   ]
  },
  {
   "cell_type": "code",
   "execution_count": 31,
   "metadata": {},
   "outputs": [],
   "source": [
    "if SCALING:\n",
    "    MMS = MinMaxScaler()\n",
    "    data[CONT_VARS] = MMS.fit_transform(data[CONT_VARS])\n",
    "    \n",
    "    MMS_Y = MinMaxScaler(feature_range=(0, 0.8))\n",
    "    data[DEP_VAR] = MMS_Y.fit_transform(data[DEP_VAR])"
   ]
  },
  {
   "cell_type": "markdown",
   "metadata": {},
   "source": [
    "# Cross Validation"
   ]
  },
  {
   "cell_type": "code",
   "execution_count": 32,
   "metadata": {},
   "outputs": [
    {
     "data": {
      "text/plain": [
       "((26250545, 71), (853720, 71), (853720, 71), (853720, 71))"
      ]
     },
     "execution_count": 32,
     "metadata": {},
     "output_type": "execute_result"
    }
   ],
   "source": [
    "train_data = data.loc[data.day_id.isin(TRAIN_INDICES)]\n",
    "valid_data = data.loc[data.day_id.isin(VALID_INDICES)]\n",
    "public_data = data.loc[data.day_id.isin(PUBLIC_INDICES)]\n",
    "private_data = data.loc[data.day_id.isin(PRIVATE_INDICES)]\n",
    "train_data.shape, valid_data.shape, public_data.shape, private_data.shape"
   ]
  },
  {
   "cell_type": "code",
   "execution_count": 33,
   "metadata": {},
   "outputs": [
    {
     "data": {
      "text/plain": [
       "True"
      ]
     },
     "execution_count": 33,
     "metadata": {},
     "output_type": "execute_result"
    }
   ],
   "source": [
    "data.shape[0] == train_data.shape[0] + valid_data.shape[0] + private_data.shape[0] + private_data.shape[0]"
   ]
  },
  {
   "cell_type": "code",
   "execution_count": 34,
   "metadata": {},
   "outputs": [
    {
     "name": "stdout",
     "output_type": "stream",
     "text": [
      "Sun Jun 28 00:09:34 2020\n"
     ]
    }
   ],
   "source": [
    "model_time = time()\n",
    "model_t = datetime.now()\n",
    "print(ctime(model_time))"
   ]
  },
  {
   "cell_type": "markdown",
   "metadata": {},
   "source": [
    "# Model Specification"
   ]
  },
  {
   "cell_type": "code",
   "execution_count": 35,
   "metadata": {},
   "outputs": [],
   "source": [
    "def build_model():\n",
    "    layers = []\n",
    "    inputs = []\n",
    "    for i,col in enumerate(CAT_VARS):\n",
    "        input_ = Input(shape=1, name=col+\"_cat\")\n",
    "        embedding =  Embedding(Unique_Dict[col+\"_cat\"]['nuniq'],\n",
    "                               Unique_Dict[col+\"_cat\"]['emb_sz'],\n",
    "                               name='emb_'+col)(input_)\n",
    "        vec = Flatten()(embedding)\n",
    "        layers.append(vec)\n",
    "        inputs.append(input_)\n",
    "    \n",
    "    for i, col in enumerate(CONT_VARS):\n",
    "        input_ = Input(shape=1, name=col)\n",
    "        layers.append(input_)\n",
    "        inputs.append(input_)\n",
    "    \n",
    "    concat_layer = concatenate(layers)\n",
    "    x = Dense(2048)(concat_layer)\n",
    "    x = BatchNormalization()(x)\n",
    "    x = Dropout(DROPOUT)(x, training=MC_DROPOUT)\n",
    "    x = Activation('relu')(x)\n",
    "\n",
    "    x = Dense(1024)(x)\n",
    "    x = BatchNormalization()(x)\n",
    "    x = Dropout(DROPOUT)(x, training=MC_DROPOUT)\n",
    "    x = Activation('relu')(x)\n",
    "\n",
    "    x = Dense(512)(x)\n",
    "    x = BatchNormalization()(x)\n",
    "    x = Dropout(DROPOUT)(x, training=MC_DROPOUT)\n",
    "    x = Activation('relu')(x)\n",
    "    \n",
    "    x = Dense(256)(x)\n",
    "    x = BatchNormalization()(x)\n",
    "    x = Dropout(DROPOUT)(x, training=MC_DROPOUT)\n",
    "    x = Activation('relu')(x)\n",
    "    \n",
    "    x = Dense(128)(x)\n",
    "    x = BatchNormalization()(x)\n",
    "    x = Dropout(DROPOUT)(x, training=MC_DROPOUT)\n",
    "    x = Activation('relu')(x)\n",
    "    \n",
    "    x = Dense(64)(x)\n",
    "    x = BatchNormalization()(x)\n",
    "    x = Dropout(DROPOUT)(x, training=MC_DROPOUT)\n",
    "    x = Activation('relu')(x)\n",
    "    \n",
    "    x = Dense(32)(x)\n",
    "    x = Dropout(DROPOUT)(x, training=MC_DROPOUT)\n",
    "    x = Activation('relu')(x)\n",
    "    \n",
    "    if SCALING:\n",
    "        demand = Dense(1, activation='sigmoid', name='demand')(x)\n",
    "    else:\n",
    "        demand = Dense(1, activation='relu', name='demand')(x)\n",
    "    \n",
    "    model = Model(inputs, demand)\n",
    "    \n",
    "    return model"
   ]
  },
  {
   "cell_type": "code",
   "execution_count": 36,
   "metadata": {},
   "outputs": [],
   "source": [
    "model = build_model()"
   ]
  },
  {
   "cell_type": "code",
   "execution_count": 37,
   "metadata": {},
   "outputs": [
    {
     "name": "stdout",
     "output_type": "stream",
     "text": [
      "Model: \"model\"\n",
      "__________________________________________________________________________________________________\n",
      "Layer (type)                    Output Shape         Param #     Connected to                     \n",
      "==================================================================================================\n",
      "state_id_cat (InputLayer)       [(None, 1)]          0                                            \n",
      "__________________________________________________________________________________________________\n",
      "store_id_cat (InputLayer)       [(None, 1)]          0                                            \n",
      "__________________________________________________________________________________________________\n",
      "cat_id_cat (InputLayer)         [(None, 1)]          0                                            \n",
      "__________________________________________________________________________________________________\n",
      "dept_id_cat (InputLayer)        [(None, 1)]          0                                            \n",
      "__________________________________________________________________________________________________\n",
      "item_id_cat (InputLayer)        [(None, 1)]          0                                            \n",
      "__________________________________________________________________________________________________\n",
      "event_name_1_cat (InputLayer)   [(None, 1)]          0                                            \n",
      "__________________________________________________________________________________________________\n",
      "event_type_1_cat (InputLayer)   [(None, 1)]          0                                            \n",
      "__________________________________________________________________________________________________\n",
      "event_name_2_cat (InputLayer)   [(None, 1)]          0                                            \n",
      "__________________________________________________________________________________________________\n",
      "event_type_2_cat (InputLayer)   [(None, 1)]          0                                            \n",
      "__________________________________________________________________________________________________\n",
      "Year_cat (InputLayer)           [(None, 1)]          0                                            \n",
      "__________________________________________________________________________________________________\n",
      "Quarter_cat (InputLayer)        [(None, 1)]          0                                            \n",
      "__________________________________________________________________________________________________\n",
      "Month_cat (InputLayer)          [(None, 1)]          0                                            \n",
      "__________________________________________________________________________________________________\n",
      "Week_cat (InputLayer)           [(None, 1)]          0                                            \n",
      "__________________________________________________________________________________________________\n",
      "Day_cat (InputLayer)            [(None, 1)]          0                                            \n",
      "__________________________________________________________________________________________________\n",
      "DOW_cat (InputLayer)            [(None, 1)]          0                                            \n",
      "__________________________________________________________________________________________________\n",
      "sell_price_available_cat (Input [(None, 1)]          0                                            \n",
      "__________________________________________________________________________________________________\n",
      "emb_state_id (Embedding)        (None, 1, 2)         6           state_id_cat[0][0]               \n",
      "__________________________________________________________________________________________________\n",
      "emb_store_id (Embedding)        (None, 1, 5)         50          store_id_cat[0][0]               \n",
      "__________________________________________________________________________________________________\n",
      "emb_cat_id (Embedding)          (None, 1, 2)         6           cat_id_cat[0][0]                 \n",
      "__________________________________________________________________________________________________\n",
      "emb_dept_id (Embedding)         (None, 1, 3)         21          dept_id_cat[0][0]                \n",
      "__________________________________________________________________________________________________\n",
      "emb_item_id (Embedding)         (None, 1, 10)        30490       item_id_cat[0][0]                \n",
      "__________________________________________________________________________________________________\n",
      "emb_event_name_1 (Embedding)    (None, 1, 10)        310         event_name_1_cat[0][0]           \n",
      "__________________________________________________________________________________________________\n",
      "emb_event_type_1 (Embedding)    (None, 1, 2)         10          event_type_1_cat[0][0]           \n",
      "__________________________________________________________________________________________________\n",
      "emb_event_name_2 (Embedding)    (None, 1, 2)         10          event_name_2_cat[0][0]           \n",
      "__________________________________________________________________________________________________\n",
      "emb_event_type_2 (Embedding)    (None, 1, 2)         6           event_type_2_cat[0][0]           \n",
      "__________________________________________________________________________________________________\n",
      "emb_Year (Embedding)            (None, 1, 3)         18          Year_cat[0][0]                   \n",
      "__________________________________________________________________________________________________\n",
      "emb_Quarter (Embedding)         (None, 1, 2)         8           Quarter_cat[0][0]                \n",
      "__________________________________________________________________________________________________\n",
      "emb_Month (Embedding)           (None, 1, 6)         72          Month_cat[0][0]                  \n",
      "__________________________________________________________________________________________________\n",
      "emb_Week (Embedding)            (None, 1, 10)        530         Week_cat[0][0]                   \n",
      "__________________________________________________________________________________________________\n",
      "emb_Day (Embedding)             (None, 1, 10)        310         Day_cat[0][0]                    \n",
      "__________________________________________________________________________________________________\n",
      "emb_DOW (Embedding)             (None, 1, 3)         21          DOW_cat[0][0]                    \n",
      "__________________________________________________________________________________________________\n",
      "emb_sell_price_available (Embed (None, 1, 2)         2           sell_price_available_cat[0][0]   \n",
      "__________________________________________________________________________________________________\n",
      "flatten (Flatten)               (None, 2)            0           emb_state_id[0][0]               \n",
      "__________________________________________________________________________________________________\n",
      "flatten_1 (Flatten)             (None, 5)            0           emb_store_id[0][0]               \n",
      "__________________________________________________________________________________________________\n",
      "flatten_2 (Flatten)             (None, 2)            0           emb_cat_id[0][0]                 \n",
      "__________________________________________________________________________________________________\n",
      "flatten_3 (Flatten)             (None, 3)            0           emb_dept_id[0][0]                \n",
      "__________________________________________________________________________________________________\n",
      "flatten_4 (Flatten)             (None, 10)           0           emb_item_id[0][0]                \n",
      "__________________________________________________________________________________________________\n",
      "flatten_5 (Flatten)             (None, 10)           0           emb_event_name_1[0][0]           \n",
      "__________________________________________________________________________________________________\n",
      "flatten_6 (Flatten)             (None, 2)            0           emb_event_type_1[0][0]           \n",
      "__________________________________________________________________________________________________\n",
      "flatten_7 (Flatten)             (None, 2)            0           emb_event_name_2[0][0]           \n",
      "__________________________________________________________________________________________________\n",
      "flatten_8 (Flatten)             (None, 2)            0           emb_event_type_2[0][0]           \n",
      "__________________________________________________________________________________________________\n",
      "flatten_9 (Flatten)             (None, 3)            0           emb_Year[0][0]                   \n",
      "__________________________________________________________________________________________________\n",
      "flatten_10 (Flatten)            (None, 2)            0           emb_Quarter[0][0]                \n",
      "__________________________________________________________________________________________________\n",
      "flatten_11 (Flatten)            (None, 6)            0           emb_Month[0][0]                  \n",
      "__________________________________________________________________________________________________\n",
      "flatten_12 (Flatten)            (None, 10)           0           emb_Week[0][0]                   \n",
      "__________________________________________________________________________________________________\n",
      "flatten_13 (Flatten)            (None, 10)           0           emb_Day[0][0]                    \n",
      "__________________________________________________________________________________________________\n",
      "flatten_14 (Flatten)            (None, 3)            0           emb_DOW[0][0]                    \n",
      "__________________________________________________________________________________________________\n",
      "flatten_15 (Flatten)            (None, 2)            0           emb_sell_price_available[0][0]   \n",
      "__________________________________________________________________________________________________\n",
      "snap_CA (InputLayer)            [(None, 1)]          0                                            \n",
      "__________________________________________________________________________________________________\n",
      "snap_TX (InputLayer)            [(None, 1)]          0                                            \n",
      "__________________________________________________________________________________________________\n",
      "snap_WI (InputLayer)            [(None, 1)]          0                                            \n",
      "__________________________________________________________________________________________________\n",
      "sell_price (InputLayer)         [(None, 1)]          0                                            \n",
      "__________________________________________________________________________________________________\n",
      "demand_lag (InputLayer)         [(None, 1)]          0                                            \n",
      "__________________________________________________________________________________________________\n",
      "demand_lag_mean_s (InputLayer)  [(None, 1)]          0                                            \n",
      "__________________________________________________________________________________________________\n",
      "demand_lag_std_s (InputLayer)   [(None, 1)]          0                                            \n",
      "__________________________________________________________________________________________________\n",
      "demand_lag_min_s (InputLayer)   [(None, 1)]          0                                            \n",
      "__________________________________________________________________________________________________\n",
      "demand_lag_max_s (InputLayer)   [(None, 1)]          0                                            \n",
      "__________________________________________________________________________________________________\n",
      "demand_lag_scaled_s (InputLayer [(None, 1)]          0                                            \n",
      "__________________________________________________________________________________________________\n",
      "demand_lag_mean_rs_7 (InputLaye [(None, 1)]          0                                            \n",
      "__________________________________________________________________________________________________\n",
      "demand_lag_min_rs_7 (InputLayer [(None, 1)]          0                                            \n",
      "__________________________________________________________________________________________________\n",
      "demand_lag_max_rs_7 (InputLayer [(None, 1)]          0                                            \n",
      "__________________________________________________________________________________________________\n",
      "demand_lag_std_rs_7 (InputLayer [(None, 1)]          0                                            \n",
      "__________________________________________________________________________________________________\n",
      "demand_lag_mean_rs_30 (InputLay [(None, 1)]          0                                            \n",
      "__________________________________________________________________________________________________\n",
      "demand_lag_min_rs_30 (InputLaye [(None, 1)]          0                                            \n",
      "__________________________________________________________________________________________________\n",
      "demand_lag_max_rs_30 (InputLaye [(None, 1)]          0                                            \n",
      "__________________________________________________________________________________________________\n",
      "demand_lag_std_rs_30 (InputLaye [(None, 1)]          0                                            \n",
      "__________________________________________________________________________________________________\n",
      "demand_lag_mean_rs_90 (InputLay [(None, 1)]          0                                            \n",
      "__________________________________________________________________________________________________\n",
      "demand_lag_min_rs_90 (InputLaye [(None, 1)]          0                                            \n",
      "__________________________________________________________________________________________________\n",
      "demand_lag_max_rs_90 (InputLaye [(None, 1)]          0                                            \n",
      "__________________________________________________________________________________________________\n",
      "demand_lag_std_rs_90 (InputLaye [(None, 1)]          0                                            \n",
      "__________________________________________________________________________________________________\n",
      "demand_lag_mean_rs_365 (InputLa [(None, 1)]          0                                            \n",
      "__________________________________________________________________________________________________\n",
      "demand_lag_min_rs_365 (InputLay [(None, 1)]          0                                            \n",
      "__________________________________________________________________________________________________\n",
      "demand_lag_max_rs_365 (InputLay [(None, 1)]          0                                            \n",
      "__________________________________________________________________________________________________\n",
      "demand_lag_std_rs_365 (InputLay [(None, 1)]          0                                            \n",
      "__________________________________________________________________________________________________\n",
      "demand_lag_lag_7 (InputLayer)   [(None, 1)]          0                                            \n",
      "__________________________________________________________________________________________________\n",
      "demand_lag_lag_30 (InputLayer)  [(None, 1)]          0                                            \n",
      "__________________________________________________________________________________________________\n",
      "demand_lag_lag_90 (InputLayer)  [(None, 1)]          0                                            \n",
      "__________________________________________________________________________________________________\n",
      "demand_lag_lag_365 (InputLayer) [(None, 1)]          0                                            \n",
      "__________________________________________________________________________________________________\n",
      "concatenate (Concatenate)       (None, 104)          0           flatten[0][0]                    \n",
      "                                                                 flatten_1[0][0]                  \n",
      "                                                                 flatten_2[0][0]                  \n",
      "                                                                 flatten_3[0][0]                  \n",
      "                                                                 flatten_4[0][0]                  \n",
      "                                                                 flatten_5[0][0]                  \n",
      "                                                                 flatten_6[0][0]                  \n",
      "                                                                 flatten_7[0][0]                  \n",
      "                                                                 flatten_8[0][0]                  \n",
      "                                                                 flatten_9[0][0]                  \n",
      "                                                                 flatten_10[0][0]                 \n",
      "                                                                 flatten_11[0][0]                 \n",
      "                                                                 flatten_12[0][0]                 \n",
      "                                                                 flatten_13[0][0]                 \n",
      "                                                                 flatten_14[0][0]                 \n",
      "                                                                 flatten_15[0][0]                 \n",
      "                                                                 snap_CA[0][0]                    \n",
      "                                                                 snap_TX[0][0]                    \n",
      "                                                                 snap_WI[0][0]                    \n",
      "                                                                 sell_price[0][0]                 \n",
      "                                                                 demand_lag[0][0]                 \n",
      "                                                                 demand_lag_mean_s[0][0]          \n",
      "                                                                 demand_lag_std_s[0][0]           \n",
      "                                                                 demand_lag_min_s[0][0]           \n",
      "                                                                 demand_lag_max_s[0][0]           \n",
      "                                                                 demand_lag_scaled_s[0][0]        \n",
      "                                                                 demand_lag_mean_rs_7[0][0]       \n",
      "                                                                 demand_lag_min_rs_7[0][0]        \n",
      "                                                                 demand_lag_max_rs_7[0][0]        \n",
      "                                                                 demand_lag_std_rs_7[0][0]        \n",
      "                                                                 demand_lag_mean_rs_30[0][0]      \n",
      "                                                                 demand_lag_min_rs_30[0][0]       \n",
      "                                                                 demand_lag_max_rs_30[0][0]       \n",
      "                                                                 demand_lag_std_rs_30[0][0]       \n",
      "                                                                 demand_lag_mean_rs_90[0][0]      \n",
      "                                                                 demand_lag_min_rs_90[0][0]       \n",
      "                                                                 demand_lag_max_rs_90[0][0]       \n",
      "                                                                 demand_lag_std_rs_90[0][0]       \n",
      "                                                                 demand_lag_mean_rs_365[0][0]     \n",
      "                                                                 demand_lag_min_rs_365[0][0]      \n",
      "                                                                 demand_lag_max_rs_365[0][0]      \n",
      "                                                                 demand_lag_std_rs_365[0][0]      \n",
      "                                                                 demand_lag_lag_7[0][0]           \n",
      "                                                                 demand_lag_lag_30[0][0]          \n",
      "                                                                 demand_lag_lag_90[0][0]          \n",
      "                                                                 demand_lag_lag_365[0][0]         \n",
      "__________________________________________________________________________________________________\n",
      "dense (Dense)                   (None, 2048)         215040      concatenate[0][0]                \n",
      "__________________________________________________________________________________________________\n",
      "batch_normalization (BatchNorma (None, 2048)         8192        dense[0][0]                      \n",
      "__________________________________________________________________________________________________\n",
      "dropout (Dropout)               (None, 2048)         0           batch_normalization[0][0]        \n",
      "__________________________________________________________________________________________________\n",
      "activation (Activation)         (None, 2048)         0           dropout[0][0]                    \n",
      "__________________________________________________________________________________________________\n",
      "dense_1 (Dense)                 (None, 1024)         2098176     activation[0][0]                 \n",
      "__________________________________________________________________________________________________\n",
      "batch_normalization_1 (BatchNor (None, 1024)         4096        dense_1[0][0]                    \n",
      "__________________________________________________________________________________________________\n",
      "dropout_1 (Dropout)             (None, 1024)         0           batch_normalization_1[0][0]      \n",
      "__________________________________________________________________________________________________\n",
      "activation_1 (Activation)       (None, 1024)         0           dropout_1[0][0]                  \n",
      "__________________________________________________________________________________________________\n",
      "dense_2 (Dense)                 (None, 512)          524800      activation_1[0][0]               \n",
      "__________________________________________________________________________________________________\n",
      "batch_normalization_2 (BatchNor (None, 512)          2048        dense_2[0][0]                    \n",
      "__________________________________________________________________________________________________\n",
      "dropout_2 (Dropout)             (None, 512)          0           batch_normalization_2[0][0]      \n",
      "__________________________________________________________________________________________________\n",
      "activation_2 (Activation)       (None, 512)          0           dropout_2[0][0]                  \n",
      "__________________________________________________________________________________________________\n",
      "dense_3 (Dense)                 (None, 256)          131328      activation_2[0][0]               \n",
      "__________________________________________________________________________________________________\n",
      "batch_normalization_3 (BatchNor (None, 256)          1024        dense_3[0][0]                    \n",
      "__________________________________________________________________________________________________\n",
      "dropout_3 (Dropout)             (None, 256)          0           batch_normalization_3[0][0]      \n",
      "__________________________________________________________________________________________________\n",
      "activation_3 (Activation)       (None, 256)          0           dropout_3[0][0]                  \n",
      "__________________________________________________________________________________________________\n",
      "dense_4 (Dense)                 (None, 128)          32896       activation_3[0][0]               \n",
      "__________________________________________________________________________________________________\n",
      "batch_normalization_4 (BatchNor (None, 128)          512         dense_4[0][0]                    \n",
      "__________________________________________________________________________________________________\n",
      "dropout_4 (Dropout)             (None, 128)          0           batch_normalization_4[0][0]      \n",
      "__________________________________________________________________________________________________\n",
      "activation_4 (Activation)       (None, 128)          0           dropout_4[0][0]                  \n",
      "__________________________________________________________________________________________________\n",
      "dense_5 (Dense)                 (None, 64)           8256        activation_4[0][0]               \n",
      "__________________________________________________________________________________________________\n",
      "batch_normalization_5 (BatchNor (None, 64)           256         dense_5[0][0]                    \n",
      "__________________________________________________________________________________________________\n",
      "dropout_5 (Dropout)             (None, 64)           0           batch_normalization_5[0][0]      \n",
      "__________________________________________________________________________________________________\n",
      "activation_5 (Activation)       (None, 64)           0           dropout_5[0][0]                  \n",
      "__________________________________________________________________________________________________\n",
      "dense_6 (Dense)                 (None, 32)           2080        activation_5[0][0]               \n",
      "__________________________________________________________________________________________________\n",
      "dropout_6 (Dropout)             (None, 32)           0           dense_6[0][0]                    \n",
      "__________________________________________________________________________________________________\n",
      "activation_6 (Activation)       (None, 32)           0           dropout_6[0][0]                  \n",
      "__________________________________________________________________________________________________\n",
      "demand (Dense)                  (None, 1)            33          activation_6[0][0]               \n",
      "==================================================================================================\n",
      "Total params: 3,060,607\n",
      "Trainable params: 3,052,543\n",
      "Non-trainable params: 8,064\n",
      "__________________________________________________________________________________________________\n"
     ]
    }
   ],
   "source": [
    "model.summary()"
   ]
  },
  {
   "cell_type": "code",
   "execution_count": 38,
   "metadata": {},
   "outputs": [],
   "source": [
    "# if os.path.exists(RESULTS_DIR+\"BestCheckpoint_\"+MODEL_VERSION+\".h5\"):\n",
    "#     model.load_weights(RESULTS_DIR+\"BestCheckpoint_\"+MODEL_VERSION+\".h5\")"
   ]
  },
  {
   "cell_type": "code",
   "execution_count": 39,
   "metadata": {},
   "outputs": [],
   "source": [
    "tclr = TriangularCyclicalLearningRate(\n",
    "    initial_learning_rate=MIN_LR,\n",
    "    maximal_learning_rate=MAX_LR,\n",
    "    step_size=STEP_SIZE * len(train_data)\n",
    ")"
   ]
  },
  {
   "cell_type": "code",
   "execution_count": 40,
   "metadata": {},
   "outputs": [],
   "source": [
    "mcp = ModelCheckpoint(filepath=RESULTS_DIR+\"BestCheckpoint_\"+MODEL_VERSION+\".h5\", monitor='val_loss',\n",
    "                      verbose=0, save_best_only=True, save_weights_only=False, mode='min', save_freq='epoch')\n",
    "csvl = CSVLogger(filename=RESULTS_DIR+\"LossLogs_\"+MODEL_VERSION+\".csv\",\n",
    "                 separator=\",\", append=True)"
   ]
  },
  {
   "cell_type": "code",
   "execution_count": 41,
   "metadata": {},
   "outputs": [],
   "source": [
    "PBL = PinballLoss(tau=[0.005,0.025,0.165,0.25,0.5,0.75,0.835,0.975,0.995])"
   ]
  },
  {
   "cell_type": "code",
   "execution_count": 42,
   "metadata": {},
   "outputs": [],
   "source": [
    "adam = Adam(learning_rate=MAX_LR)\n",
    "model.compile(loss= PBL if MC_DROPOUT else 'mse', optimizer=adam)"
   ]
  },
  {
   "cell_type": "code",
   "execution_count": 43,
   "metadata": {},
   "outputs": [
    {
     "data": {
      "text/plain": [
       "20"
      ]
     },
     "execution_count": 43,
     "metadata": {},
     "output_type": "execute_result"
    }
   ],
   "source": [
    "gc.collect()"
   ]
  },
  {
   "cell_type": "code",
   "execution_count": 44,
   "metadata": {
    "scrolled": true
   },
   "outputs": [
    {
     "name": "stdout",
     "output_type": "stream",
     "text": [
      "Epoch 1/4\n",
      "5128/5128 [==============================] - 416s 81ms/step - loss: 7814.6895 - val_loss: 2415.9556\n",
      "Epoch 2/4\n",
      "5128/5128 [==============================] - 416s 81ms/step - loss: 5867.2939 - val_loss: 2313.3130\n",
      "Epoch 3/4\n",
      "5128/5128 [==============================] - 412s 80ms/step - loss: 5274.6406 - val_loss: 486799.9375\n",
      "Epoch 4/4\n",
      "5128/5128 [==============================] - 407s 79ms/step - loss: 4823.5127 - val_loss: 2459.4133\n"
     ]
    }
   ],
   "source": [
    "history = model.fit(x=train_data[NEW_CAT_VARS + CONT_VARS].to_dict(orient='series'),\n",
    "                    y=train_data[DEP_VAR].to_dict(orient='series'),\n",
    "                    validation_data=(valid_data[NEW_CAT_VARS + CONT_VARS].to_dict(orient='series'),\n",
    "                                     valid_data[DEP_VAR].to_dict(orient='series'),\n",
    "                                     valid_data[WEIGHT_VAR].to_dict(orient='series')['rolling_weights']\n",
    "                                    ),\n",
    "                    batch_size=BATCH_SIZE,\n",
    "                    epochs=NUM_EPOCHS[0],\n",
    "                    shuffle=True,\n",
    "                    verbose=1,\n",
    "                    sample_weight=train_data[WEIGHT_VAR].to_dict(orient='series')['rolling_weights'],\n",
    "                    callbacks=[mcp, csvl])"
   ]
  },
  {
   "cell_type": "code",
   "execution_count": 45,
   "metadata": {},
   "outputs": [
    {
     "data": {
      "image/png": "[encoded data removed]",
      "text/plain": [
       "<Figure size 432x288 with 1 Axes>"
      ]
     },
     "metadata": {
      "needs_background": "light"
     },
     "output_type": "display_data"
    }
   ],
   "source": [
    "metric_names = ['loss']\n",
    "\n",
    "for i, j in zip(metric_names, ['val_'+i for i in metric_names]):\n",
    "    plt.plot(history.history[i])\n",
    "    plt.plot(history.history[j])\n",
    "    plt.title('Model '+i)\n",
    "    plt.ylabel(i.upper())\n",
    "    plt.xlabel('Epoch')\n",
    "    plt.legend(['Train', 'Validation'])\n",
    "    plt.show()"
   ]
  },
  {
   "cell_type": "code",
   "execution_count": 46,
   "metadata": {},
   "outputs": [],
   "source": [
    "model = tf.keras.models.load_model(filepath=RESULTS_DIR+\"BestCheckpoint_\"+MODEL_VERSION+\".h5\", compile=False)"
   ]
  },
  {
   "cell_type": "code",
   "execution_count": 47,
   "metadata": {},
   "outputs": [
    {
     "data": {
      "text/plain": [
       "20"
      ]
     },
     "execution_count": 47,
     "metadata": {},
     "output_type": "execute_result"
    }
   ],
   "source": [
    "gc.collect()"
   ]
  },
  {
   "cell_type": "code",
   "execution_count": 48,
   "metadata": {},
   "outputs": [],
   "source": [
    "adam = Adam(learning_rate=tclr)\n",
    "model.compile(loss=PBL if MC_DROPOUT else 'mse', optimizer=adam)"
   ]
  },
  {
   "cell_type": "code",
   "execution_count": 49,
   "metadata": {
    "scrolled": true
   },
   "outputs": [
    {
     "name": "stdout",
     "output_type": "stream",
     "text": [
      "Epoch 1/28\n",
      "5128/5128 [==============================] - 416s 81ms/step - loss: 4847.8423 - val_loss: 2183.9253\n",
      "Epoch 2/28\n",
      "5128/5128 [==============================] - 415s 81ms/step - loss: 4717.3247 - val_loss: 2160.1094\n",
      "Epoch 3/28\n",
      "5128/5128 [==============================] - 414s 81ms/step - loss: 4707.6016 - val_loss: 2147.5740\n",
      "Epoch 4/28\n",
      "5128/5128 [==============================] - 415s 81ms/step - loss: 4674.1763 - val_loss: 2126.3015\n",
      "Epoch 5/28\n",
      "5128/5128 [==============================] - 414s 81ms/step - loss: 4663.3350 - val_loss: 2124.9521\n",
      "Epoch 6/28\n",
      "5128/5128 [==============================] - 414s 81ms/step - loss: 4637.6470 - val_loss: 2115.2356\n",
      "Epoch 7/28\n",
      "5128/5128 [==============================] - 414s 81ms/step - loss: 4643.1855 - val_loss: 2126.8896\n",
      "Epoch 8/28\n",
      "5128/5128 [==============================] - 414s 81ms/step - loss: 4623.6948 - val_loss: 2112.7004\n",
      "Epoch 9/28\n",
      "5128/5128 [==============================] - 414s 81ms/step - loss: 4611.6001 - val_loss: 2123.3264\n",
      "Epoch 10/28\n",
      "5128/5128 [==============================] - 414s 81ms/step - loss: 4599.7725 - val_loss: 2119.0303\n",
      "Epoch 11/28\n",
      "  98/5128 [..............................] - ETA: 6:34 - loss: 4744.5532"
     ]
    },
    {
     "name": "stderr",
     "output_type": "stream",
     "text": [
      "IOPub message rate exceeded.\n",
      "The notebook server will temporarily stop sending output\n",
      "to the client in order to avoid crashing it.\n",
      "To change this limit, set the config variable\n",
      "`--NotebookApp.iopub_msg_rate_limit`.\n",
      "\n",
      "Current values:\n",
      "NotebookApp.iopub_msg_rate_limit=1000.0 (msgs/sec)\n",
      "NotebookApp.rate_limit_window=3.0 (secs)\n",
      "\n"
     ]
    },
    {
     "name": "stdout",
     "output_type": "stream",
     "text": [
      "5128/5128 [==============================] - 416s 81ms/step - loss: 4594.3867 - val_loss: 2108.7598\n",
      "Epoch 12/28\n",
      "5128/5128 [==============================] - 414s 81ms/step - loss: 4603.7959 - val_loss: 2111.4348\n",
      "Epoch 13/28\n",
      "5128/5128 [==============================] - 414s 81ms/step - loss: 4575.4595 - val_loss: 2110.4834\n",
      "Epoch 14/28\n",
      "5128/5128 [==============================] - 415s 81ms/step - loss: 4554.0371 - val_loss: 2105.7871\n",
      "Epoch 15/28\n",
      "5128/5128 [==============================] - 414s 81ms/step - loss: 4526.3730 - val_loss: 2101.6626\n",
      "Epoch 16/28\n",
      "5128/5128 [==============================] - 414s 81ms/step - loss: 4565.1035 - val_loss: 2126.1545\n",
      "Epoch 17/28\n",
      "5128/5128 [==============================] - 414s 81ms/step - loss: 4540.1338 - val_loss: 2113.7183\n",
      "Epoch 18/28\n",
      "5128/5128 [==============================] - 414s 81ms/step - loss: 4533.3809 - val_loss: 2104.2268\n",
      "Epoch 19/28\n",
      "5128/5128 [==============================] - 414s 81ms/step - loss: 4527.9810 - val_loss: 2088.1436\n",
      "Epoch 20/28\n",
      "5128/5128 [==============================] - 415s 81ms/step - loss: 4513.6245 - val_loss: 2120.5015\n",
      "Epoch 21/28\n",
      "5128/5128 [==============================] - 414s 81ms/step - loss: 4487.6753 - val_loss: 2095.5400\n",
      "Epoch 22/28\n",
      "5128/5128 [==============================] - 416s 81ms/step - loss: 4475.2319 - val_loss: 2092.4148\n",
      "Epoch 23/28\n",
      "5128/5128 [==============================] - 414s 81ms/step - loss: 4477.5815 - val_loss: 2115.0103\n",
      "Epoch 24/28\n",
      "5128/5128 [==============================] - 414s 81ms/step - loss: 4456.4653 - val_loss: 2092.7568\n",
      "Epoch 25/28\n",
      "5128/5128 [==============================] - 414s 81ms/step - loss: 4452.7734 - val_loss: 2096.6584\n",
      "Epoch 26/28\n",
      "5128/5128 [==============================] - 415s 81ms/step - loss: 4446.7568 - val_loss: 2074.6228\n",
      "Epoch 27/28\n",
      "5128/5128 [==============================] - 415s 81ms/step - loss: 4418.9390 - val_loss: 2149.1870\n",
      "Epoch 28/28\n",
      "5128/5128 [==============================] - 415s 81ms/step - loss: 4420.2153 - val_loss: 2073.9304\n"
     ]
    }
   ],
   "source": [
    "history = model.fit(x=train_data[NEW_CAT_VARS + CONT_VARS].to_dict(orient='series'),\n",
    "                    y=train_data[DEP_VAR].to_dict(orient='series'),\n",
    "                    validation_data=(valid_data[NEW_CAT_VARS + CONT_VARS].to_dict(orient='series'),\n",
    "                                     valid_data[DEP_VAR].to_dict(orient='series'),\n",
    "                                     valid_data[WEIGHT_VAR].to_dict(orient='series')['rolling_weights']\n",
    "                                    ),\n",
    "                    batch_size=BATCH_SIZE,\n",
    "                    epochs=NUM_EPOCHS[1],\n",
    "                    shuffle=True,\n",
    "                    verbose=1, \n",
    "                    sample_weight=train_data[WEIGHT_VAR].to_dict(orient='series')['rolling_weights'],\n",
    "                    callbacks=[mcp, csvl])"
   ]
  },
  {
   "cell_type": "code",
   "execution_count": 50,
   "metadata": {},
   "outputs": [
    {
     "data": {
      "image/png": "[encoded data removed]",
      "text/plain": [
       "<Figure size 432x288 with 1 Axes>"
      ]
     },
     "metadata": {
      "needs_background": "light"
     },
     "output_type": "display_data"
    }
   ],
   "source": [
    "metric_names = ['loss']\n",
    "\n",
    "for i, j in zip(metric_names, ['val_'+i for i in metric_names]):\n",
    "    plt.plot(history.history[i])\n",
    "    plt.plot(history.history[j])\n",
    "    plt.title('Model ' + i)\n",
    "    plt.ylabel(i.upper())\n",
    "    plt.xlabel('Epoch')\n",
    "    plt.legend(['Train', 'Validation'])\n",
    "    plt.show()"
   ]
  },
  {
   "cell_type": "code",
   "execution_count": 51,
   "metadata": {},
   "outputs": [],
   "source": [
    "model = tf.keras.models.load_model(filepath=RESULTS_DIR+\"BestCheckpoint_\"+MODEL_VERSION+\".h5\", compile=False)"
   ]
  },
  {
   "cell_type": "code",
   "execution_count": 52,
   "metadata": {},
   "outputs": [
    {
     "data": {
      "text/plain": [
       "18795"
      ]
     },
     "execution_count": 52,
     "metadata": {},
     "output_type": "execute_result"
    }
   ],
   "source": [
    "gc.collect()"
   ]
  },
  {
   "cell_type": "code",
   "execution_count": 53,
   "metadata": {},
   "outputs": [],
   "source": [
    "adam = Adam(learning_rate=MIN_LR*0.1)\n",
    "model.compile(loss=PBL if MC_DROPOUT else 'mse', optimizer=adam)"
   ]
  },
  {
   "cell_type": "code",
   "execution_count": 54,
   "metadata": {
    "scrolled": false
   },
   "outputs": [
    {
     "name": "stdout",
     "output_type": "stream",
     "text": [
      "Epoch 1/4\n",
      "5128/5128 [==============================] - 414s 81ms/step - loss: 4398.0190 - val_loss: 2066.6479\n",
      "Epoch 2/4\n",
      "5128/5128 [==============================] - 413s 80ms/step - loss: 4377.6138 - val_loss: 2079.3826\n",
      "Epoch 3/4\n",
      "5128/5128 [==============================] - 413s 81ms/step - loss: 4406.4492 - val_loss: 2077.8743\n",
      "Epoch 4/4\n",
      "5128/5128 [==============================] - 413s 80ms/step - loss: 4397.1934 - val_loss: 2070.4834\n"
     ]
    }
   ],
   "source": [
    "history = model.fit(x=train_data[NEW_CAT_VARS + CONT_VARS].to_dict(orient='series'),\n",
    "                    y=train_data[DEP_VAR].to_dict(orient='series'),\n",
    "                    validation_data=(valid_data[NEW_CAT_VARS + CONT_VARS].to_dict(orient='series'),\n",
    "                                     valid_data[DEP_VAR].to_dict(orient='series'),\n",
    "                                     valid_data[WEIGHT_VAR].to_dict(orient='series')['rolling_weights']\n",
    "                                    ),\n",
    "                    batch_size=BATCH_SIZE,\n",
    "                    epochs=NUM_EPOCHS[2],\n",
    "                    shuffle=True,\n",
    "                    verbose=1, \n",
    "                    sample_weight=train_data[WEIGHT_VAR].to_dict(orient='series')['rolling_weights'],\n",
    "                    callbacks=[mcp, csvl])"
   ]
  },
  {
   "cell_type": "code",
   "execution_count": 55,
   "metadata": {
    "scrolled": true
   },
   "outputs": [
    {
     "data": {
      "image/png": "[encoded data removed]",
      "text/plain": [
       "<Figure size 432x288 with 1 Axes>"
      ]
     },
     "metadata": {
      "needs_background": "light"
     },
     "output_type": "display_data"
    }
   ],
   "source": [
    "metric_names = ['loss']\n",
    "\n",
    "for i, j in zip(metric_names, ['val_'+i for i in metric_names]):\n",
    "    plt.plot(history.history[i])\n",
    "    plt.plot(history.history[j])\n",
    "    plt.title('Model '+i)\n",
    "    plt.ylabel(i.upper())\n",
    "    plt.xlabel('Epoch')\n",
    "    plt.legend(['Train', 'Validation'])\n",
    "    plt.show()"
   ]
  },
  {
   "cell_type": "code",
   "execution_count": 56,
   "metadata": {},
   "outputs": [],
   "source": [
    "model.save(filepath=RESULTS_DIR+\"FinalCheckpoint_\"+MODEL_VERSION+\".h5\", overwrite=True)"
   ]
  },
  {
   "cell_type": "markdown",
   "metadata": {},
   "source": [
    "# Validation"
   ]
  },
  {
   "cell_type": "code",
   "execution_count": 57,
   "metadata": {},
   "outputs": [],
   "source": [
    "if os.path.exists(RESULTS_DIR+\"BestCheckpoint_\"+MODEL_VERSION+\".h5\"):\n",
    "    model = tf.keras.models.load_model(filepath=RESULTS_DIR+\"BestCheckpoint_\"+MODEL_VERSION+\".h5\", compile=False)"
   ]
  },
  {
   "cell_type": "code",
   "execution_count": 58,
   "metadata": {},
   "outputs": [
    {
     "data": {
      "text/plain": [
       "15884"
      ]
     },
     "execution_count": 58,
     "metadata": {},
     "output_type": "execute_result"
    }
   ],
   "source": [
    "gc.collect()"
   ]
  },
  {
   "cell_type": "code",
   "execution_count": 59,
   "metadata": {},
   "outputs": [
    {
     "name": "stdout",
     "output_type": "stream",
     "text": [
      "(26250545, 1) (853720, 1) (853720, 1) (853720, 1)\n"
     ]
    }
   ],
   "source": [
    "for i in range(MC_SAMPLES):\n",
    "    if i == 0:\n",
    "        train_preds = model.predict(train_data[NEW_CAT_VARS + CONT_VARS].to_dict(orient='series'),\n",
    "                                    batch_size=PREDICT_BATCH_SIZE, verbose=0)\n",
    "\n",
    "        valid_preds = model.predict(valid_data[NEW_CAT_VARS + CONT_VARS].to_dict(orient='series'),\n",
    "                                    batch_size=PREDICT_BATCH_SIZE, verbose=0)\n",
    "\n",
    "        public_preds = model.predict(public_data[NEW_CAT_VARS + CONT_VARS].to_dict(orient='series'),\n",
    "                                     batch_size=PREDICT_BATCH_SIZE, verbose=0)\n",
    "\n",
    "        private_preds = model.predict(private_data[NEW_CAT_VARS + CONT_VARS].to_dict(orient='series'),\n",
    "                                      batch_size=PREDICT_BATCH_SIZE, verbose=0)\n",
    "        \n",
    "    else:\n",
    "        train_preds = np.concatenate((train_preds, \n",
    "                                      model.predict(train_data[NEW_CAT_VARS + CONT_VARS].to_dict(orient='series'),\n",
    "                                                    batch_size=PREDICT_BATCH_SIZE, verbose=0)), axis=1)\n",
    "\n",
    "        valid_preds = np.concatenate((valid_preds, \n",
    "                                      model.predict(valid_data[NEW_CAT_VARS + CONT_VARS].to_dict(orient='series'),\n",
    "                                                    batch_size=PREDICT_BATCH_SIZE, verbose=0)), axis=1)\n",
    "\n",
    "        public_preds = np.concatenate((public_preds, \n",
    "                                       model.predict(public_data[NEW_CAT_VARS + CONT_VARS].to_dict(orient='series'),\n",
    "                                                     batch_size=PREDICT_BATCH_SIZE, verbose=0)), axis=1)\n",
    "\n",
    "        private_preds = np.concatenate((private_preds, \n",
    "                                        model.predict(private_data[NEW_CAT_VARS + CONT_VARS].to_dict(orient='series'),\n",
    "                                                      batch_size=PREDICT_BATCH_SIZE, verbose=0)), axis=1)\n",
    "\n",
    "print(train_preds.shape, valid_preds.shape, public_preds.shape, private_preds.shape)"
   ]
  },
  {
   "cell_type": "code",
   "execution_count": 60,
   "metadata": {},
   "outputs": [
    {
     "data": {
      "text/plain": [
       "7927"
      ]
     },
     "execution_count": 60,
     "metadata": {},
     "output_type": "execute_result"
    }
   ],
   "source": [
    "gc.collect()"
   ]
  },
  {
   "cell_type": "code",
   "execution_count": 61,
   "metadata": {},
   "outputs": [],
   "source": [
    "if SCALING:\n",
    "    train_demand = MMS_Y.inverse_transform(train_preds)\n",
    "    valid_demand = MMS_Y.inverse_transform(valid_preds)\n",
    "    public_demand = MMS_Y.inverse_transform(public_preds)\n",
    "    private_demand = MMS_Y.inverse_transform(private_preds)\n",
    "    \n",
    "    data['prediction'] = 0\n",
    "    data[['prediction']].loc[data.day_id.isin(TRAIN_INDICES)] = train_preds\n",
    "    data[['prediction']].loc[data.day_id.isin(VALID_INDICES)] = valid_preds\n",
    "    data[['prediction']].loc[data.day_id.isin(PUBLIC_INDICES)] = public_preds\n",
    "    data[['prediction']].loc[data.day_id.isin(PRIVATE_INDICES)] = private_preds\n",
    "\n",
    "    data['demand_Unscaled'] = MMS_Y.inverse_transform(data[['demand']])\n",
    "    data[[col+'_Unscaled' for col in CONT_VARS]] = pd.DataFrame(MMS.inverse_transform(data[CONT_VARS]))"
   ]
  },
  {
   "cell_type": "code",
   "execution_count": 62,
   "metadata": {},
   "outputs": [
    {
     "name": "stderr",
     "output_type": "stream",
     "text": [
      "/anaconda/envs/py37_tensorflow/lib/python3.7/site-packages/pandas/core/indexing.py:671: SettingWithCopyWarning: \n",
      "A value is trying to be set on a copy of a slice from a DataFrame\n",
      "\n",
      "See the caveats in the documentation: https://pandas.pydata.org/pandas-docs/stable/user_guide/indexing.html#returning-a-view-versus-a-copy\n",
      "  self._setitem_with_indexer(indexer, value)\n"
     ]
    }
   ],
   "source": [
    "data['pred_demand'] = 0\n",
    "\n",
    "if SCALING:\n",
    "    data['pred_demand'].loc[data.day_id.isin(TRAIN_INDICES)] = train_demand.flatten()\n",
    "    data['pred_demand'].loc[data.day_id.isin(VALID_INDICES)] = valid_demand.flatten()\n",
    "    data['pred_demand'].loc[data.day_id.isin(PUBLIC_INDICES)] = public_demand.flatten()\n",
    "    data['pred_demand'].loc[data.day_id.isin(PRIVATE_INDICES)] = private_demand.flatten()\n",
    "else:\n",
    "    data['pred_demand'].loc[data.day_id.isin(TRAIN_INDICES)] = train_preds.flatten()\n",
    "    data['pred_demand'].loc[data.day_id.isin(VALID_INDICES)] = valid_preds.flatten()\n",
    "    data['pred_demand'].loc[data.day_id.isin(PUBLIC_INDICES)] = public_preds.flatten()\n",
    "    data['pred_demand'].loc[data.day_id.isin(PRIVATE_INDICES)] = private_preds.flatten()"
   ]
  },
  {
   "cell_type": "code",
   "execution_count": 63,
   "metadata": {},
   "outputs": [
    {
     "data": {
      "text/plain": [
       "40"
      ]
     },
     "execution_count": 63,
     "metadata": {},
     "output_type": "execute_result"
    }
   ],
   "source": [
    "gc.collect()"
   ]
  },
  {
   "cell_type": "code",
   "execution_count": 64,
   "metadata": {},
   "outputs": [
    {
     "name": "stdout",
     "output_type": "stream",
     "text": [
      "Train\n",
      "\t {'Train_RMSE': 5.11, 'Train_REAL_SUM': 2415390.0, 'Train_PRED_SUM': 4668155.32}\n",
      "Valid\n",
      "\t {'Valid_RMSE': 3.31, 'Valid_REAL_SUM': 65743547.0, 'Valid_PRED_SUM': 79382556.42}\n",
      "Public\n",
      "\t {'Public_RMSE': 3.18, 'Public_REAL_SUM': 65695409.0, 'Public_PRED_SUM': 79357895.05}\n",
      "Private\n",
      "\t {'Private_RMSE': 'None', 'Private_REAL_SUM': 66927173.0, 'Private_PRED_SUM': 79847457.33}\n"
     ]
    }
   ],
   "source": [
    "for i in ['Train', 'Valid', 'Public', 'Private']:\n",
    "    print(i)\n",
    "    print('\\t',{\n",
    "        i+'_RMSE' : np.round(mean_squared_error(y_true = data['demand'].loc[data.set == i],\n",
    "                                                y_pred = data['pred_demand'].loc[data.set == i]),\n",
    "                             2) if i!='Private' else 'None',\n",
    "        i+\"_REAL_SUM\" : np.round(data['demand'].loc[data.set != i].sum(), 2),\n",
    "        i+\"_PRED_SUM\" : np.round(data['pred_demand'].loc[data.set != i].sum(), 2),\n",
    "    })"
   ]
  },
  {
   "cell_type": "code",
   "execution_count": 65,
   "metadata": {},
   "outputs": [
    {
     "data": {
      "text/html": [
       "<div>\n",
       "<style scoped>\n",
       "    .dataframe tbody tr th:only-of-type {\n",
       "        vertical-align: middle;\n",
       "    }\n",
       "\n",
       "    .dataframe tbody tr th {\n",
       "        vertical-align: top;\n",
       "    }\n",
       "\n",
       "    .dataframe thead tr th {\n",
       "        text-align: left;\n",
       "    }\n",
       "\n",
       "    .dataframe thead tr:last-of-type th {\n",
       "        text-align: right;\n",
       "    }\n",
       "</style>\n",
       "<table border=\"1\" class=\"dataframe\">\n",
       "  <thead>\n",
       "    <tr>\n",
       "      <th></th>\n",
       "      <th colspan=\"8\" halign=\"left\">demand</th>\n",
       "      <th colspan=\"8\" halign=\"left\">pred_demand</th>\n",
       "    </tr>\n",
       "    <tr>\n",
       "      <th></th>\n",
       "      <th>count</th>\n",
       "      <th>mean</th>\n",
       "      <th>std</th>\n",
       "      <th>min</th>\n",
       "      <th>25%</th>\n",
       "      <th>50%</th>\n",
       "      <th>75%</th>\n",
       "      <th>max</th>\n",
       "      <th>count</th>\n",
       "      <th>mean</th>\n",
       "      <th>std</th>\n",
       "      <th>min</th>\n",
       "      <th>25%</th>\n",
       "      <th>50%</th>\n",
       "      <th>75%</th>\n",
       "      <th>max</th>\n",
       "    </tr>\n",
       "    <tr>\n",
       "      <th>set</th>\n",
       "      <th></th>\n",
       "      <th></th>\n",
       "      <th></th>\n",
       "      <th></th>\n",
       "      <th></th>\n",
       "      <th></th>\n",
       "      <th></th>\n",
       "      <th></th>\n",
       "      <th></th>\n",
       "      <th></th>\n",
       "      <th></th>\n",
       "      <th></th>\n",
       "      <th></th>\n",
       "      <th></th>\n",
       "      <th></th>\n",
       "      <th></th>\n",
       "    </tr>\n",
       "  </thead>\n",
       "  <tbody>\n",
       "    <tr>\n",
       "      <th>Private</th>\n",
       "      <td>853720.00</td>\n",
       "      <td>0.00</td>\n",
       "      <td>0.00</td>\n",
       "      <td>0.00</td>\n",
       "      <td>0.00</td>\n",
       "      <td>0.00</td>\n",
       "      <td>0.00</td>\n",
       "      <td>0.00</td>\n",
       "      <td>853720.00</td>\n",
       "      <td>1.45</td>\n",
       "      <td>2.24</td>\n",
       "      <td>0.29</td>\n",
       "      <td>0.61</td>\n",
       "      <td>0.90</td>\n",
       "      <td>1.45</td>\n",
       "      <td>93.84</td>\n",
       "    </tr>\n",
       "    <tr>\n",
       "      <th>Public</th>\n",
       "      <td>853720.00</td>\n",
       "      <td>1.44</td>\n",
       "      <td>3.64</td>\n",
       "      <td>0.00</td>\n",
       "      <td>0.00</td>\n",
       "      <td>0.00</td>\n",
       "      <td>2.00</td>\n",
       "      <td>196.00</td>\n",
       "      <td>853720.00</td>\n",
       "      <td>2.02</td>\n",
       "      <td>3.48</td>\n",
       "      <td>0.29</td>\n",
       "      <td>0.66</td>\n",
       "      <td>1.10</td>\n",
       "      <td>2.04</td>\n",
       "      <td>173.70</td>\n",
       "    </tr>\n",
       "    <tr>\n",
       "      <th>Train</th>\n",
       "      <td>26250545.00</td>\n",
       "      <td>2.46</td>\n",
       "      <td>5.44</td>\n",
       "      <td>0.00</td>\n",
       "      <td>0.00</td>\n",
       "      <td>1.00</td>\n",
       "      <td>3.00</td>\n",
       "      <td>763.00</td>\n",
       "      <td>26250545.00</td>\n",
       "      <td>2.91</td>\n",
       "      <td>5.28</td>\n",
       "      <td>0.28</td>\n",
       "      <td>0.88</td>\n",
       "      <td>1.52</td>\n",
       "      <td>2.94</td>\n",
       "      <td>908.07</td>\n",
       "    </tr>\n",
       "    <tr>\n",
       "      <th>Valid</th>\n",
       "      <td>853720.00</td>\n",
       "      <td>1.39</td>\n",
       "      <td>3.59</td>\n",
       "      <td>0.00</td>\n",
       "      <td>0.00</td>\n",
       "      <td>0.00</td>\n",
       "      <td>1.00</td>\n",
       "      <td>204.00</td>\n",
       "      <td>853720.00</td>\n",
       "      <td>1.99</td>\n",
       "      <td>3.35</td>\n",
       "      <td>0.29</td>\n",
       "      <td>0.67</td>\n",
       "      <td>1.10</td>\n",
       "      <td>2.00</td>\n",
       "      <td>173.21</td>\n",
       "    </tr>\n",
       "  </tbody>\n",
       "</table>\n",
       "</div>"
      ],
      "text/plain": [
       "             demand                                      pred_demand       \\\n",
       "              count mean  std  min  25%  50%  75%    max       count mean   \n",
       "set                                                                         \n",
       "Private   853720.00 0.00 0.00 0.00 0.00 0.00 0.00   0.00   853720.00 1.45   \n",
       "Public    853720.00 1.44 3.64 0.00 0.00 0.00 2.00 196.00   853720.00 2.02   \n",
       "Train   26250545.00 2.46 5.44 0.00 0.00 1.00 3.00 763.00 26250545.00 2.91   \n",
       "Valid     853720.00 1.39 3.59 0.00 0.00 0.00 1.00 204.00   853720.00 1.99   \n",
       "\n",
       "                                         \n",
       "         std  min  25%  50%  75%    max  \n",
       "set                                      \n",
       "Private 2.24 0.29 0.61 0.90 1.45  93.84  \n",
       "Public  3.48 0.29 0.66 1.10 2.04 173.70  \n",
       "Train   5.28 0.28 0.88 1.52 2.94 908.07  \n",
       "Valid   3.35 0.29 0.67 1.10 2.00 173.21  "
      ]
     },
     "execution_count": 65,
     "metadata": {},
     "output_type": "execute_result"
    }
   ],
   "source": [
    "# Is the distribution same?\n",
    "data[['demand','pred_demand','set']].groupby('set').describe()"
   ]
  },
  {
   "cell_type": "markdown",
   "metadata": {},
   "source": [
    "## Submission"
   ]
  },
  {
   "cell_type": "code",
   "execution_count": 66,
   "metadata": {},
   "outputs": [],
   "source": [
    "submission = data.loc[data['set'].isin(['Private', 'Public'])][['id',\n",
    "                                                                'day_id',\n",
    "                                                                'pred_demand', \n",
    "                                                                'set']].copy().reset_index(drop=True)"
   ]
  },
  {
   "cell_type": "code",
   "execution_count": 67,
   "metadata": {},
   "outputs": [],
   "source": [
    "submission['day_id2'] = 'F' + pd.Series(np.where(submission['day_id'] <= max(PUBLIC_INDICES), \n",
    "                                                 submission['day_id'] - min(PUBLIC_INDICES) + 1, \n",
    "                                                 submission['day_id'] - min(PRIVATE_INDICES) + 1).astype(int).astype(str))"
   ]
  },
  {
   "cell_type": "code",
   "execution_count": 68,
   "metadata": {},
   "outputs": [],
   "source": [
    "submission['id'] = np.where(submission['set']==\"Public\",\n",
    "                            submission['id'].str.replace(\"evaluation\", \"validation\"), \n",
    "                            submission['id'])"
   ]
  },
  {
   "cell_type": "code",
   "execution_count": 69,
   "metadata": {},
   "outputs": [
    {
     "data": {
      "text/html": [
       "<div>\n",
       "<style scoped>\n",
       "    .dataframe tbody tr th:only-of-type {\n",
       "        vertical-align: middle;\n",
       "    }\n",
       "\n",
       "    .dataframe tbody tr th {\n",
       "        vertical-align: top;\n",
       "    }\n",
       "\n",
       "    .dataframe thead tr th {\n",
       "        text-align: left;\n",
       "    }\n",
       "\n",
       "    .dataframe thead tr:last-of-type th {\n",
       "        text-align: right;\n",
       "    }\n",
       "</style>\n",
       "<table border=\"1\" class=\"dataframe\">\n",
       "  <thead>\n",
       "    <tr>\n",
       "      <th></th>\n",
       "      <th colspan=\"2\" halign=\"left\">day_id</th>\n",
       "    </tr>\n",
       "    <tr>\n",
       "      <th></th>\n",
       "      <th>amin</th>\n",
       "      <th>amax</th>\n",
       "    </tr>\n",
       "    <tr>\n",
       "      <th>set</th>\n",
       "      <th></th>\n",
       "      <th></th>\n",
       "    </tr>\n",
       "  </thead>\n",
       "  <tbody>\n",
       "    <tr>\n",
       "      <th>Private</th>\n",
       "      <td>1942</td>\n",
       "      <td>1969</td>\n",
       "    </tr>\n",
       "    <tr>\n",
       "      <th>Public</th>\n",
       "      <td>1914</td>\n",
       "      <td>1941</td>\n",
       "    </tr>\n",
       "  </tbody>\n",
       "</table>\n",
       "</div>"
      ],
      "text/plain": [
       "        day_id      \n",
       "          amin  amax\n",
       "set                 \n",
       "Private   1942  1969\n",
       "Public    1914  1941"
      ]
     },
     "execution_count": 69,
     "metadata": {},
     "output_type": "execute_result"
    }
   ],
   "source": [
    "submission.groupby('set').agg({\n",
    "    'day_id':[np.min, np.max]\n",
    "})"
   ]
  },
  {
   "cell_type": "code",
   "execution_count": 70,
   "metadata": {},
   "outputs": [],
   "source": [
    "submission_file = submission.pivot(\n",
    "    values='pred_demand',\n",
    "    index='id',\n",
    "    columns='day_id2').reset_index(drop=False)\n",
    "submission_file = submission_file[['id']+[\"F\"+str(i) for i in range(1,29,1)]]"
   ]
  },
  {
   "cell_type": "code",
   "execution_count": 71,
   "metadata": {},
   "outputs": [
    {
     "data": {
      "text/html": [
       "<div>\n",
       "<style scoped>\n",
       "    .dataframe tbody tr th:only-of-type {\n",
       "        vertical-align: middle;\n",
       "    }\n",
       "\n",
       "    .dataframe tbody tr th {\n",
       "        vertical-align: top;\n",
       "    }\n",
       "\n",
       "    .dataframe thead th {\n",
       "        text-align: right;\n",
       "    }\n",
       "</style>\n",
       "<table border=\"1\" class=\"dataframe\">\n",
       "  <thead>\n",
       "    <tr style=\"text-align: right;\">\n",
       "      <th>day_id2</th>\n",
       "      <th>id</th>\n",
       "      <th>F1</th>\n",
       "      <th>F2</th>\n",
       "      <th>F3</th>\n",
       "      <th>F4</th>\n",
       "      <th>F5</th>\n",
       "      <th>F6</th>\n",
       "      <th>F7</th>\n",
       "      <th>F8</th>\n",
       "      <th>F9</th>\n",
       "      <th>...</th>\n",
       "      <th>F19</th>\n",
       "      <th>F20</th>\n",
       "      <th>F21</th>\n",
       "      <th>F22</th>\n",
       "      <th>F23</th>\n",
       "      <th>F24</th>\n",
       "      <th>F25</th>\n",
       "      <th>F26</th>\n",
       "      <th>F27</th>\n",
       "      <th>F28</th>\n",
       "    </tr>\n",
       "  </thead>\n",
       "  <tbody>\n",
       "    <tr>\n",
       "      <th>0</th>\n",
       "      <td>FOODS_1_001_CA_1_evaluation</td>\n",
       "      <td>0.94</td>\n",
       "      <td>0.54</td>\n",
       "      <td>0.58</td>\n",
       "      <td>0.92</td>\n",
       "      <td>0.47</td>\n",
       "      <td>0.72</td>\n",
       "      <td>0.72</td>\n",
       "      <td>0.95</td>\n",
       "      <td>0.41</td>\n",
       "      <td>...</td>\n",
       "      <td>0.67</td>\n",
       "      <td>1.02</td>\n",
       "      <td>0.77</td>\n",
       "      <td>0.65</td>\n",
       "      <td>0.91</td>\n",
       "      <td>0.68</td>\n",
       "      <td>1.03</td>\n",
       "      <td>0.43</td>\n",
       "      <td>0.75</td>\n",
       "      <td>0.64</td>\n",
       "    </tr>\n",
       "    <tr>\n",
       "      <th>1</th>\n",
       "      <td>FOODS_1_001_CA_1_validation</td>\n",
       "      <td>1.83</td>\n",
       "      <td>0.59</td>\n",
       "      <td>0.63</td>\n",
       "      <td>0.56</td>\n",
       "      <td>0.50</td>\n",
       "      <td>1.44</td>\n",
       "      <td>1.01</td>\n",
       "      <td>1.01</td>\n",
       "      <td>5.20</td>\n",
       "      <td>...</td>\n",
       "      <td>0.69</td>\n",
       "      <td>2.25</td>\n",
       "      <td>1.31</td>\n",
       "      <td>0.46</td>\n",
       "      <td>0.54</td>\n",
       "      <td>0.50</td>\n",
       "      <td>0.56</td>\n",
       "      <td>0.92</td>\n",
       "      <td>0.50</td>\n",
       "      <td>0.53</td>\n",
       "    </tr>\n",
       "    <tr>\n",
       "      <th>2</th>\n",
       "      <td>FOODS_1_001_CA_2_evaluation</td>\n",
       "      <td>0.93</td>\n",
       "      <td>0.76</td>\n",
       "      <td>0.49</td>\n",
       "      <td>0.57</td>\n",
       "      <td>0.95</td>\n",
       "      <td>0.88</td>\n",
       "      <td>0.99</td>\n",
       "      <td>0.99</td>\n",
       "      <td>0.99</td>\n",
       "      <td>...</td>\n",
       "      <td>0.92</td>\n",
       "      <td>1.03</td>\n",
       "      <td>0.70</td>\n",
       "      <td>0.94</td>\n",
       "      <td>0.70</td>\n",
       "      <td>0.94</td>\n",
       "      <td>0.38</td>\n",
       "      <td>0.92</td>\n",
       "      <td>0.77</td>\n",
       "      <td>0.71</td>\n",
       "    </tr>\n",
       "    <tr>\n",
       "      <th>3</th>\n",
       "      <td>FOODS_1_001_CA_2_validation</td>\n",
       "      <td>1.05</td>\n",
       "      <td>2.13</td>\n",
       "      <td>1.05</td>\n",
       "      <td>0.57</td>\n",
       "      <td>1.00</td>\n",
       "      <td>1.08</td>\n",
       "      <td>1.79</td>\n",
       "      <td>0.52</td>\n",
       "      <td>0.97</td>\n",
       "      <td>...</td>\n",
       "      <td>0.47</td>\n",
       "      <td>0.68</td>\n",
       "      <td>0.77</td>\n",
       "      <td>1.29</td>\n",
       "      <td>1.23</td>\n",
       "      <td>0.89</td>\n",
       "      <td>0.52</td>\n",
       "      <td>1.02</td>\n",
       "      <td>1.55</td>\n",
       "      <td>0.98</td>\n",
       "    </tr>\n",
       "    <tr>\n",
       "      <th>4</th>\n",
       "      <td>FOODS_1_001_CA_3_evaluation</td>\n",
       "      <td>0.94</td>\n",
       "      <td>1.10</td>\n",
       "      <td>0.46</td>\n",
       "      <td>1.48</td>\n",
       "      <td>1.43</td>\n",
       "      <td>1.28</td>\n",
       "      <td>1.07</td>\n",
       "      <td>1.57</td>\n",
       "      <td>1.52</td>\n",
       "      <td>...</td>\n",
       "      <td>1.48</td>\n",
       "      <td>1.55</td>\n",
       "      <td>1.50</td>\n",
       "      <td>1.41</td>\n",
       "      <td>1.42</td>\n",
       "      <td>1.59</td>\n",
       "      <td>1.29</td>\n",
       "      <td>1.37</td>\n",
       "      <td>1.45</td>\n",
       "      <td>1.46</td>\n",
       "    </tr>\n",
       "  </tbody>\n",
       "</table>\n",
       "<p>5 rows × 29 columns</p>\n",
       "</div>"
      ],
      "text/plain": [
       "day_id2                           id   F1   F2   F3   F4   F5   F6   F7   F8  \\\n",
       "0        FOODS_1_001_CA_1_evaluation 0.94 0.54 0.58 0.92 0.47 0.72 0.72 0.95   \n",
       "1        FOODS_1_001_CA_1_validation 1.83 0.59 0.63 0.56 0.50 1.44 1.01 1.01   \n",
       "2        FOODS_1_001_CA_2_evaluation 0.93 0.76 0.49 0.57 0.95 0.88 0.99 0.99   \n",
       "3        FOODS_1_001_CA_2_validation 1.05 2.13 1.05 0.57 1.00 1.08 1.79 0.52   \n",
       "4        FOODS_1_001_CA_3_evaluation 0.94 1.10 0.46 1.48 1.43 1.28 1.07 1.57   \n",
       "\n",
       "day_id2   F9  ...  F19  F20  F21  F22  F23  F24  F25  F26  F27  F28  \n",
       "0       0.41  ... 0.67 1.02 0.77 0.65 0.91 0.68 1.03 0.43 0.75 0.64  \n",
       "1       5.20  ... 0.69 2.25 1.31 0.46 0.54 0.50 0.56 0.92 0.50 0.53  \n",
       "2       0.99  ... 0.92 1.03 0.70 0.94 0.70 0.94 0.38 0.92 0.77 0.71  \n",
       "3       0.97  ... 0.47 0.68 0.77 1.29 1.23 0.89 0.52 1.02 1.55 0.98  \n",
       "4       1.52  ... 1.48 1.55 1.50 1.41 1.42 1.59 1.29 1.37 1.45 1.46  \n",
       "\n",
       "[5 rows x 29 columns]"
      ]
     },
     "execution_count": 71,
     "metadata": {},
     "output_type": "execute_result"
    }
   ],
   "source": [
    "submission_file.head()"
   ]
  },
  {
   "cell_type": "code",
   "execution_count": 72,
   "metadata": {},
   "outputs": [
    {
     "data": {
      "text/html": [
       "<div>\n",
       "<style scoped>\n",
       "    .dataframe tbody tr th:only-of-type {\n",
       "        vertical-align: middle;\n",
       "    }\n",
       "\n",
       "    .dataframe tbody tr th {\n",
       "        vertical-align: top;\n",
       "    }\n",
       "\n",
       "    .dataframe thead th {\n",
       "        text-align: right;\n",
       "    }\n",
       "</style>\n",
       "<table border=\"1\" class=\"dataframe\">\n",
       "  <thead>\n",
       "    <tr style=\"text-align: right;\">\n",
       "      <th>day_id2</th>\n",
       "      <th>id</th>\n",
       "      <th>F1</th>\n",
       "      <th>F2</th>\n",
       "      <th>F3</th>\n",
       "      <th>F4</th>\n",
       "      <th>F5</th>\n",
       "      <th>F6</th>\n",
       "      <th>F7</th>\n",
       "      <th>F8</th>\n",
       "      <th>F9</th>\n",
       "      <th>...</th>\n",
       "      <th>F19</th>\n",
       "      <th>F20</th>\n",
       "      <th>F21</th>\n",
       "      <th>F22</th>\n",
       "      <th>F23</th>\n",
       "      <th>F24</th>\n",
       "      <th>F25</th>\n",
       "      <th>F26</th>\n",
       "      <th>F27</th>\n",
       "      <th>F28</th>\n",
       "    </tr>\n",
       "  </thead>\n",
       "  <tbody>\n",
       "    <tr>\n",
       "      <th>60975</th>\n",
       "      <td>HOUSEHOLD_2_516_WI_1_validation</td>\n",
       "      <td>1.45</td>\n",
       "      <td>0.45</td>\n",
       "      <td>0.46</td>\n",
       "      <td>1.14</td>\n",
       "      <td>0.46</td>\n",
       "      <td>0.37</td>\n",
       "      <td>0.51</td>\n",
       "      <td>0.54</td>\n",
       "      <td>0.52</td>\n",
       "      <td>...</td>\n",
       "      <td>0.51</td>\n",
       "      <td>0.51</td>\n",
       "      <td>0.49</td>\n",
       "      <td>0.54</td>\n",
       "      <td>0.51</td>\n",
       "      <td>0.39</td>\n",
       "      <td>0.49</td>\n",
       "      <td>1.15</td>\n",
       "      <td>0.47</td>\n",
       "      <td>0.48</td>\n",
       "    </tr>\n",
       "    <tr>\n",
       "      <th>60976</th>\n",
       "      <td>HOUSEHOLD_2_516_WI_2_evaluation</td>\n",
       "      <td>0.54</td>\n",
       "      <td>0.56</td>\n",
       "      <td>0.53</td>\n",
       "      <td>0.52</td>\n",
       "      <td>0.52</td>\n",
       "      <td>0.49</td>\n",
       "      <td>0.52</td>\n",
       "      <td>0.50</td>\n",
       "      <td>0.56</td>\n",
       "      <td>...</td>\n",
       "      <td>0.50</td>\n",
       "      <td>0.52</td>\n",
       "      <td>0.50</td>\n",
       "      <td>0.50</td>\n",
       "      <td>0.50</td>\n",
       "      <td>0.52</td>\n",
       "      <td>0.55</td>\n",
       "      <td>0.50</td>\n",
       "      <td>0.49</td>\n",
       "      <td>0.45</td>\n",
       "    </tr>\n",
       "    <tr>\n",
       "      <th>60977</th>\n",
       "      <td>HOUSEHOLD_2_516_WI_2_validation</td>\n",
       "      <td>0.59</td>\n",
       "      <td>0.30</td>\n",
       "      <td>0.48</td>\n",
       "      <td>0.47</td>\n",
       "      <td>0.52</td>\n",
       "      <td>0.56</td>\n",
       "      <td>0.50</td>\n",
       "      <td>0.55</td>\n",
       "      <td>0.55</td>\n",
       "      <td>...</td>\n",
       "      <td>0.50</td>\n",
       "      <td>0.48</td>\n",
       "      <td>1.99</td>\n",
       "      <td>2.28</td>\n",
       "      <td>0.53</td>\n",
       "      <td>0.50</td>\n",
       "      <td>0.50</td>\n",
       "      <td>0.49</td>\n",
       "      <td>0.46</td>\n",
       "      <td>0.47</td>\n",
       "    </tr>\n",
       "    <tr>\n",
       "      <th>60978</th>\n",
       "      <td>HOUSEHOLD_2_516_WI_3_evaluation</td>\n",
       "      <td>0.59</td>\n",
       "      <td>0.65</td>\n",
       "      <td>0.64</td>\n",
       "      <td>0.62</td>\n",
       "      <td>0.58</td>\n",
       "      <td>0.57</td>\n",
       "      <td>0.58</td>\n",
       "      <td>0.58</td>\n",
       "      <td>0.66</td>\n",
       "      <td>...</td>\n",
       "      <td>0.60</td>\n",
       "      <td>0.58</td>\n",
       "      <td>0.56</td>\n",
       "      <td>0.57</td>\n",
       "      <td>0.59</td>\n",
       "      <td>0.61</td>\n",
       "      <td>0.64</td>\n",
       "      <td>0.57</td>\n",
       "      <td>0.53</td>\n",
       "      <td>0.47</td>\n",
       "    </tr>\n",
       "    <tr>\n",
       "      <th>60979</th>\n",
       "      <td>HOUSEHOLD_2_516_WI_3_validation</td>\n",
       "      <td>0.65</td>\n",
       "      <td>0.58</td>\n",
       "      <td>0.55</td>\n",
       "      <td>0.43</td>\n",
       "      <td>1.46</td>\n",
       "      <td>0.67</td>\n",
       "      <td>0.59</td>\n",
       "      <td>0.65</td>\n",
       "      <td>0.65</td>\n",
       "      <td>...</td>\n",
       "      <td>0.41</td>\n",
       "      <td>1.20</td>\n",
       "      <td>0.59</td>\n",
       "      <td>0.62</td>\n",
       "      <td>0.61</td>\n",
       "      <td>0.61</td>\n",
       "      <td>0.59</td>\n",
       "      <td>0.57</td>\n",
       "      <td>0.55</td>\n",
       "      <td>0.55</td>\n",
       "    </tr>\n",
       "  </tbody>\n",
       "</table>\n",
       "<p>5 rows × 29 columns</p>\n",
       "</div>"
      ],
      "text/plain": [
       "day_id2                               id   F1   F2   F3   F4   F5   F6   F7  \\\n",
       "60975    HOUSEHOLD_2_516_WI_1_validation 1.45 0.45 0.46 1.14 0.46 0.37 0.51   \n",
       "60976    HOUSEHOLD_2_516_WI_2_evaluation 0.54 0.56 0.53 0.52 0.52 0.49 0.52   \n",
       "60977    HOUSEHOLD_2_516_WI_2_validation 0.59 0.30 0.48 0.47 0.52 0.56 0.50   \n",
       "60978    HOUSEHOLD_2_516_WI_3_evaluation 0.59 0.65 0.64 0.62 0.58 0.57 0.58   \n",
       "60979    HOUSEHOLD_2_516_WI_3_validation 0.65 0.58 0.55 0.43 1.46 0.67 0.59   \n",
       "\n",
       "day_id2   F8   F9  ...  F19  F20  F21  F22  F23  F24  F25  F26  F27  F28  \n",
       "60975   0.54 0.52  ... 0.51 0.51 0.49 0.54 0.51 0.39 0.49 1.15 0.47 0.48  \n",
       "60976   0.50 0.56  ... 0.50 0.52 0.50 0.50 0.50 0.52 0.55 0.50 0.49 0.45  \n",
       "60977   0.55 0.55  ... 0.50 0.48 1.99 2.28 0.53 0.50 0.50 0.49 0.46 0.47  \n",
       "60978   0.58 0.66  ... 0.60 0.58 0.56 0.57 0.59 0.61 0.64 0.57 0.53 0.47  \n",
       "60979   0.65 0.65  ... 0.41 1.20 0.59 0.62 0.61 0.61 0.59 0.57 0.55 0.55  \n",
       "\n",
       "[5 rows x 29 columns]"
      ]
     },
     "execution_count": 72,
     "metadata": {},
     "output_type": "execute_result"
    }
   ],
   "source": [
    "submission_file.tail()"
   ]
  },
  {
   "cell_type": "code",
   "execution_count": 73,
   "metadata": {},
   "outputs": [],
   "source": [
    "submission_file.to_csv('../results/submission_'+MODEL_VERSION+'.csv', index=False)"
   ]
  },
  {
   "cell_type": "code",
   "execution_count": 74,
   "metadata": {},
   "outputs": [
    {
     "name": "stdout",
     "output_type": "stream",
     "text": [
      "Sun Jun 28 04:22:11 2020\n",
      "4:31:34.934066 0:18:58.495042 4:12:36.439024\n"
     ]
    }
   ],
   "source": [
    "end_time = time()\n",
    "end = datetime.now()\n",
    "print(ctime(end_time))\n",
    "print(end - start, model_t - start, end - model_t)"
   ]
  }
 ],
 "metadata": {
  "kernelspec": {
   "display_name": "py37_tensorflow",
   "language": "python",
   "name": "conda-env-py37_tensorflow-py"
  },
  "language_info": {
   "codemirror_mode": {
    "name": "ipython",
    "version": 3
   },
   "file_extension": ".py",
   "mimetype": "text/x-python",
   "name": "python",
   "nbconvert_exporter": "python",
   "pygments_lexer": "ipython3",
   "version": "3.7.7"
  }
 },
 "nbformat": 4,
 "nbformat_minor": 4
}
